{
 "cells": [
  {
   "cell_type": "code",
   "execution_count": 1,
   "id": "28ecf4a7-4e8d-4273-8e4e-7b1bab9c89d0",
   "metadata": {},
   "outputs": [],
   "source": [
    "import numpy as np\n",
    "import sympy as sy\n",
    "\n",
    "# Rotation matrices\n",
    "def R0(angle):\n",
    "    return sy.Matrix([\n",
    "        [sy.cos(angle), -sy.sin(angle)], \n",
    "        [sy.sin(angle),  sy.cos(angle)]\n",
    "    ])\n",
    "\n",
    "def R1(angle): \n",
    "    return sy.Matrix([\n",
    "        [1, 0,              0            ],\n",
    "        [0, sy.cos(angle), -sy.sin(angle)], \n",
    "        [0, sy.sin(angle),  sy.cos(angle)]\n",
    "    ])\n",
    "\n",
    "def R3(angle):\n",
    "    return sy.Matrix([\n",
    "        [sy.cos(angle), -sy.sin(angle), 0], \n",
    "        [sy.sin(angle),  sy.cos(angle), 0],\n",
    "        [0,              0,             1]\n",
    "    ])\n",
    "\n",
    "H0 = R0(sy.pi/2)\n",
    "H3 = R3(sy.pi/2)\n",
    "\n",
    "def u(angle):\n",
    "    return sy.Matrix([[sy.sin(angle)], [sy.cos(angle)]])\n",
    "\n",
    "# Bases\n",
    "e3 = [sy.eye(3).col(i) for i in range(3)]\n",
    "\n",
    "# Angles\n",
    "solar_azimuth   = sy.Symbol(r\"\\alpha\")\n",
    "solar_elevation = sy.Symbol(r\"\\eta\")\n",
    "planar_azimuth  = sy.Symbol(r\"\\bar\\alpha\")\n",
    "planar_tilt     = sy.Symbol(r\"\\beta\")\n",
    "\n",
    "# Light versor\n",
    "n = -R3(solar_azimuth).T @ R1(solar_elevation) @ e3[1]\n",
    "\n",
    "# Projection Matrix\n",
    "M = sy.eye(3) - n @ e3[2].T / n[2]\n",
    "\n",
    "# Module size and position\n",
    "w = sy.Symbol(r\"w\", positive=True)\n",
    "d = sy.Symbol(r\"d\", positive=True)\n",
    "c = sy.Matrix([[sy.Symbol(r\"c_1\")], [sy.Symbol(r\"c_2\")], [sy.Symbol(r\"c_3\")]]) \n",
    "\n",
    "# Crops\n",
    "p  = sy.Matrix([sy.Symbol(r\"p_1\"), sy.Symbol(r\"p_2\"), 0])\n",
    "\n",
    "# Vertices\n",
    "v0 = [\n",
    "    sy.Matrix([[-w/2], [-d/2], [0]]),\n",
    "    sy.Matrix([[w/2], [-d/2], [0]]),\n",
    "    sy.Matrix([[w/2], [d/2], [0]]),\n",
    "    sy.Matrix([[-w/2], [d/2], [0]])\n",
    "]\n",
    "v = [R3(planar_azimuth).T @ R1(planar_tilt).T @ v0[j] + c for j in range(4)]\n",
    "\n",
    "# Shadow\n",
    "s       = [M @ v[j] for j in range(4)]\n",
    "Delta_s = [s[(j+1) % 4] - s[j] for j in range(4)]\n",
    "\n",
    "# Auxiliaries\n",
    "T = sy.Matrix([\n",
    "    [0, sy.sin(planar_tilt)*sy.cos(solar_azimuth - planar_azimuth)/sy.tan(solar_elevation) + sy.cos(planar_tilt), -sy.cos(planar_tilt)*sy.cos(solar_azimuth - planar_azimuth)/sy.tan(solar_elevation) + sy.sin(planar_tilt)],\n",
    "    [0, 0, sy.sin(solar_azimuth - planar_azimuth)/sy.tan(solar_elevation)],\n",
    "    [0, 0, 0]\n",
    "])\n",
    "\n",
    "# Discrete trigonometric function\n",
    "sigma = lambda n: np.sin(0.5*n*np.pi).round()\n",
    "\n",
    "# g = lambda j: Delta_s[j].T @ H3.T @ p - c.T @ M.T @ (H3 @ s[(j+1) % 4] + H3.T @ s[j]) - \\\n",
    "#     v0[(j+1) % 4].T @ (T - T.T) @ v0[j]\n",
    "\n",
    "# Elements for linear expression of \"Delta_s[j].T @ H3.T @ (p - s[j])\"\n",
    "a = lambda j: 0.5*d*w*sy.Matrix([[sy.cos(solar_azimuth - planar_azimuth)/sy.tan(solar_elevation)], [1]]) + \\\n",
    "           sigma(j)*d*sy.Matrix([\n",
    "                        [sy.cos(solar_azimuth)*(c[0] - p[0])/sy.tan(solar_elevation) + sy.sin(solar_azimuth)*(p[1] - c[1])/sy.tan(solar_elevation)],\n",
    "                        [sy.cos(planar_azimuth)*(c[0] - p[0]) + sy.sin(planar_azimuth)*(p[1] - c[1]) - sy.sin(solar_azimuth - planar_azimuth)*c[2]/sy.tan(solar_elevation)]\n",
    "                    ])\n",
    "              \n",
    "b = lambda j: sigma(j+1)*w*sy.Matrix([sy.sin(planar_azimuth)*(p[0] - c[0]) + sy.cos(planar_azimuth)*(p[1] - c[1]) + \\\n",
    "              c[2]*sy.cos(solar_azimuth - planar_azimuth)/sy.tan(solar_elevation)])"
   ]
  },
  {
   "cell_type": "code",
   "execution_count": 2,
   "id": "3770292a",
   "metadata": {},
   "outputs": [
    {
     "data": {
      "text/latex": [
       "$\\displaystyle \\left[\\begin{matrix}d \\left(- \\frac{c_{1} \\sin{\\left(\\beta \\right)} \\cos{\\left(\\alpha \\right)}}{\\tan{\\left(\\eta \\right)}} - c_{1} \\cos{\\left(\\bar\\alpha \\right)} \\cos{\\left(\\beta \\right)} + \\frac{c_{2} \\sin{\\left(\\alpha \\right)} \\sin{\\left(\\beta \\right)}}{\\tan{\\left(\\eta \\right)}} + c_{2} \\sin{\\left(\\bar\\alpha \\right)} \\cos{\\left(\\beta \\right)} + \\frac{c_{3} \\sin{\\left(\\alpha - \\bar\\alpha \\right)} \\cos{\\left(\\beta \\right)}}{\\tan{\\left(\\eta \\right)}} + \\frac{p_{1} \\sin{\\left(\\beta \\right)} \\cos{\\left(\\alpha \\right)}}{\\tan{\\left(\\eta \\right)}} + p_{1} \\cos{\\left(\\bar\\alpha \\right)} \\cos{\\left(\\beta \\right)} - \\frac{p_{2} \\sin{\\left(\\alpha \\right)} \\sin{\\left(\\beta \\right)}}{\\tan{\\left(\\eta \\right)}} - p_{2} \\sin{\\left(\\bar\\alpha \\right)} \\cos{\\left(\\beta \\right)} + \\frac{w \\sin{\\left(\\beta \\right)} \\cos{\\left(\\alpha - \\bar\\alpha \\right)}}{2 \\tan{\\left(\\eta \\right)}} + \\frac{w \\cos{\\left(\\beta \\right)}}{2}\\right)\\end{matrix}\\right]$"
      ],
      "text/plain": [
       "Matrix([[d*(-c_1*sin(\\beta)*cos(\\alpha)/tan(\\eta) - c_1*cos(\\bar\\alpha)*cos(\\beta) + c_2*sin(\\alpha)*sin(\\beta)/tan(\\eta) + c_2*sin(\\bar\\alpha)*cos(\\beta) + c_3*sin(\\alpha - \\bar\\alpha)*cos(\\beta)/tan(\\eta) + p_1*sin(\\beta)*cos(\\alpha)/tan(\\eta) + p_1*cos(\\bar\\alpha)*cos(\\beta) - p_2*sin(\\alpha)*sin(\\beta)/tan(\\eta) - p_2*sin(\\bar\\alpha)*cos(\\beta) + w*sin(\\beta)*cos(\\alpha - \\bar\\alpha)/(2*tan(\\eta)) + w*cos(\\beta)/2)]])"
      ]
     },
     "execution_count": 2,
     "metadata": {},
     "output_type": "execute_result"
    }
   ],
   "source": [
    "# Full expression \n",
    "j = 3\n",
    "l = Delta_s[j].T @ H3.T @ (p - s[j])\n",
    "sy.expand(l).trigsimp()"
   ]
  },
  {
   "cell_type": "code",
   "execution_count": 6,
   "id": "dbfa4190",
   "metadata": {},
   "outputs": [
    {
     "name": "stdout",
     "output_type": "stream",
     "text": [
      "j = 0: Matrix([[0]])\n",
      "j = 1: Matrix([[0]])\n",
      "j = 2: Matrix([[0]])\n",
      "j = 3: Matrix([[0]])\n"
     ]
    }
   ],
   "source": [
    "# Check if the linear terms yield the full expression\n",
    "for j in range(4):\n",
    "    l = Delta_s[j].T @ H3.T @ (p - s[j]) - (a(j).T*u(planar_tilt) + b(j))\n",
    "    l.simplify()    \n",
    "    print(f\"j = {j}: {l}\")"
   ]
  },
  {
   "cell_type": "code",
   "execution_count": 79,
   "id": "71216f93",
   "metadata": {},
   "outputs": [
    {
     "data": {
      "text/latex": [
       "$\\displaystyle \\left[\\begin{matrix}0 & \\frac{\\sin{\\left(\\beta \\right)} \\cos{\\left(\\alpha - \\bar\\alpha \\right)}}{\\tan{\\left(\\eta \\right)}} + \\cos{\\left(\\beta \\right)} & \\sin{\\left(\\beta \\right)} - \\frac{\\cos{\\left(\\beta \\right)} \\cos{\\left(\\alpha - \\bar\\alpha \\right)}}{\\tan{\\left(\\eta \\right)}}\\\\- \\frac{\\sin{\\left(\\beta \\right)} \\cos{\\left(\\alpha - \\bar\\alpha \\right)}}{\\tan{\\left(\\eta \\right)}} - \\cos{\\left(\\beta \\right)} & 0 & \\frac{\\sin{\\left(\\alpha - \\bar\\alpha \\right)}}{\\tan{\\left(\\eta \\right)}}\\\\- \\sin{\\left(\\beta \\right)} + \\frac{\\cos{\\left(\\beta \\right)} \\cos{\\left(\\alpha - \\bar\\alpha \\right)}}{\\tan{\\left(\\eta \\right)}} & - \\frac{\\sin{\\left(\\alpha - \\bar\\alpha \\right)}}{\\tan{\\left(\\eta \\right)}} & 0\\end{matrix}\\right]$"
      ],
      "text/plain": [
       "Matrix([\n",
       "[                                                          0, sin(\\beta)*cos(\\alpha - \\bar\\alpha)/tan(\\eta) + cos(\\beta), sin(\\beta) - cos(\\beta)*cos(\\alpha - \\bar\\alpha)/tan(\\eta)],\n",
       "[-sin(\\beta)*cos(\\alpha - \\bar\\alpha)/tan(\\eta) - cos(\\beta),                                                          0,                         sin(\\alpha - \\bar\\alpha)/tan(\\eta)],\n",
       "[-sin(\\beta) + cos(\\beta)*cos(\\alpha - \\bar\\alpha)/tan(\\eta),                        -sin(\\alpha - \\bar\\alpha)/tan(\\eta),                                                          0]])"
      ]
     },
     "execution_count": 79,
     "metadata": {},
     "output_type": "execute_result"
    }
   ],
   "source": [
    "# Matrix T\n",
    "j = 1\n",
    "l = R1(planar_tilt) @ R3(planar_azimuth) @ M.T @ H3.T @ M @ R3(planar_azimuth).T @ R1(planar_tilt).T\n",
    "l.simplify()\n",
    "l"
   ]
  },
  {
   "cell_type": "code",
   "execution_count": 117,
   "id": "90d4e2cc",
   "metadata": {},
   "outputs": [
    {
     "data": {
      "text/latex": [
       "$\\displaystyle \\left[\\begin{matrix}0\\end{matrix}\\right]$"
      ],
      "text/plain": [
       "Matrix([[0]])"
      ]
     },
     "execution_count": 117,
     "metadata": {},
     "output_type": "execute_result"
    }
   ],
   "source": [
    "j = 0\n",
    "l = Delta_s[j].T @ H3.T @ (p - s[j]) - g(j)\n",
    "l.simplify()\n",
    "l"
   ]
  },
  {
   "cell_type": "code",
   "execution_count": 28,
   "id": "44494e94",
   "metadata": {},
   "outputs": [
    {
     "data": {
      "text/latex": [
       "$\\displaystyle \\left[\\begin{matrix}\\frac{w \\left(- 2 c_{1} \\sin{\\left(\\bar\\alpha \\right)} - 2 c_{2} \\cos{\\left(\\bar\\alpha \\right)} + \\frac{2 c_{3} \\cos{\\left(\\alpha - \\bar\\alpha \\right)}}{\\tan{\\left(\\eta \\right)}} + \\frac{d \\sin{\\left(\\beta \\right)} \\cos{\\left(\\alpha - \\bar\\alpha \\right)}}{\\tan{\\left(\\eta \\right)}} + d \\cos{\\left(\\beta \\right)}\\right)}{2}\\end{matrix}\\right]$"
      ],
      "text/plain": [
       "Matrix([[w*(-2*c_1*sin(\\bar\\alpha) - 2*c_2*cos(\\bar\\alpha) + 2*c_3*cos(\\alpha - \\bar\\alpha)/tan(\\eta) + d*sin(\\beta)*cos(\\alpha - \\bar\\alpha)/tan(\\eta) + d*cos(\\beta))/2]])"
      ]
     },
     "execution_count": 28,
     "metadata": {},
     "output_type": "execute_result"
    }
   ],
   "source": [
    "j = 1\n",
    "l = Delta_s[j+1].T @ H3.T @ s[j]\n",
    "l.simplify()\n",
    "l"
   ]
  },
  {
   "cell_type": "code",
   "execution_count": 5,
   "id": "c7d2e451-9a0c-4171-af9a-c7d2aa4662ef",
   "metadata": {},
   "outputs": [
    {
     "data": {
      "text/latex": [
       "$\\displaystyle \\left[\\begin{matrix}0\\end{matrix}\\right]$"
      ],
      "text/plain": [
       "Matrix([[0]])"
      ]
     },
     "execution_count": 5,
     "metadata": {},
     "output_type": "execute_result"
    }
   ],
   "source": [
    "# Check reduced forms for Delta s^T H^T (z - s) >= 0\n",
    "j = 0\n",
    "reduced  = w*sy.Matrix([[d*sy.cos(solar_azimuth - planar_azimuth)/(2*sy.tan(solar_elevation))], [d/2]]).T @ u(planar_tilt) + \\\n",
    "           w*delta.T @ u(planar_azimuth) + \\\n",
    "           w*sy.Matrix([c[2]*(sy.cos(solar_azimuth - planar_azimuth))/sy.tan(solar_elevation)]) \n",
    "original = Delta_s[0].T @ H3.T @ (p - s[0]) \n",
    "l = reduced - original\n",
    "l.simplify()\n",
    "l"
   ]
  },
  {
   "cell_type": "code",
   "execution_count": 6,
   "id": "47c5eb4d-e41e-4eaf-9a9d-ecfab8a5cf1c",
   "metadata": {},
   "outputs": [
    {
     "data": {
      "text/latex": [
       "$\\displaystyle \\left[\\begin{matrix}0\\end{matrix}\\right]$"
      ],
      "text/plain": [
       "Matrix([[0]])"
      ]
     },
     "execution_count": 6,
     "metadata": {},
     "output_type": "execute_result"
    }
   ],
   "source": [
    "j = 2\n",
    "reduced  = 0.5*d*w*sy.Matrix([[sy.cos(solar_azimuth - planar_azimuth)/sy.tan(solar_elevation)], [1]]).T @ u(planar_tilt) - \\\n",
    "           w*delta.T @ u(planar_azimuth) - \\\n",
    "           w*sy.Matrix([c[2]*(sy.cos(solar_azimuth - planar_azimuth))/sy.tan(solar_elevation)]) \n",
    "original = Delta_s[j].T @ H3.T @ (p - s[j]) \n",
    "l = reduced - original\n",
    "l.simplify()\n",
    "l"
   ]
  },
  {
   "cell_type": "code",
   "execution_count": 28,
   "id": "c3ad403d-3ff9-49a9-a6c0-fbbf327cd357",
   "metadata": {},
   "outputs": [
    {
     "data": {
      "text/latex": [
       "$\\displaystyle \\left[\\begin{matrix}0\\end{matrix}\\right]$"
      ],
      "text/plain": [
       "Matrix([[0]])"
      ]
     },
     "execution_count": 28,
     "metadata": {},
     "output_type": "execute_result"
    }
   ],
   "source": [
    "j = 1\n",
    "reduced  = d*(\n",
    "    -sy.Matrix([\n",
    "        [sy.sin(solar_azimuth)/sy.tan(solar_elevation), sy.cos(solar_azimuth)/sy.tan(solar_elevation)],\n",
    "        [sy.sin(planar_azimuth), sy.cos(planar_azimuth)]\n",
    "    ]) @ H0 @ delta + \\\n",
    "    sy.Matrix([\n",
    "        [0, w/(2*sy.tan(solar_elevation))],\n",
    "        [-c[2]/sy.tan(solar_elevation), 0]\n",
    "    ]) @ u(solar_azimuth - planar_azimuth) + \\\n",
    "    sy.Matrix([[0], [w/2]])\n",
    ").T @ u(planar_tilt)\n",
    "original = Delta_s[j].T @ H3.T @ (p - s[j]) \n",
    "l = reduced - original\n",
    "l.simplify()\n",
    "l"
   ]
  },
  {
   "cell_type": "code",
   "execution_count": 27,
   "id": "09be2fbb-0611-48b7-bbd0-64c18dcfbdb9",
   "metadata": {},
   "outputs": [
    {
     "data": {
      "text/latex": [
       "$\\displaystyle \\left[\\begin{matrix}0\\end{matrix}\\right]$"
      ],
      "text/plain": [
       "Matrix([[0]])"
      ]
     },
     "execution_count": 27,
     "metadata": {},
     "output_type": "execute_result"
    }
   ],
   "source": [
    "j = 3\n",
    "reduced  = d*(\n",
    "    sy.Matrix([\n",
    "        [sy.sin(solar_azimuth)/sy.tan(solar_elevation), sy.cos(solar_azimuth)/sy.tan(solar_elevation)],\n",
    "        [sy.sin(planar_azimuth), sy.cos(planar_azimuth)]\n",
    "    ]) @ H0 @ delta + \\\n",
    "    sy.Matrix([\n",
    "        [0, w/(2*sy.tan(solar_elevation))],\n",
    "        [c[2]/sy.tan(solar_elevation), 0]\n",
    "    ]) @ u(solar_azimuth - planar_azimuth) + \\\n",
    "    sy.Matrix([[0], [w/2]])\n",
    ").T @ u(planar_tilt)\n",
    "original = Delta_s[j].T @ H3.T @ (p - s[j]) \n",
    "l = reduced - original\n",
    "l.simplify()\n",
    "l"
   ]
  },
  {
   "cell_type": "code",
   "execution_count": 7,
   "id": "06cbedba-4ee2-43f1-bdfc-ed474227c233",
   "metadata": {},
   "outputs": [
    {
     "data": {
      "text/latex": [
       "$\\displaystyle \\left[\\begin{matrix}w \\left(- c_{1} \\sin{\\left(\\bar\\alpha \\right)} - c_{2} \\cos{\\left(\\bar\\alpha \\right)} + \\frac{c_{3} \\cos{\\left(\\alpha - \\bar\\alpha \\right)}}{\\tan{\\left(\\eta \\right)}} + \\frac{d \\sin{\\left(\\beta \\right)} \\cos{\\left(\\alpha - \\bar\\alpha \\right)}}{2 \\tan{\\left(\\eta \\right)}} + \\frac{d \\cos{\\left(\\beta \\right)}}{2} + p_{1} \\sin{\\left(\\bar\\alpha \\right)} + p_{2} \\cos{\\left(\\bar\\alpha \\right)}\\right)\\end{matrix}\\right]$"
      ],
      "text/plain": [
       "Matrix([[w*(-c_1*sin(\\bar\\alpha) - c_2*cos(\\bar\\alpha) + c_3*cos(\\alpha - \\bar\\alpha)/tan(\\eta) + d*sin(\\beta)*cos(\\alpha - \\bar\\alpha)/(2*tan(\\eta)) + d*cos(\\beta)/2 + p_1*sin(\\bar\\alpha) + p_2*cos(\\bar\\alpha))]])"
      ]
     },
     "execution_count": 7,
     "metadata": {},
     "output_type": "execute_result"
    }
   ],
   "source": [
    "# Check the halfplane expression Delta s^T H^T (z - s) >= 0\n",
    "l = Delta_s[0].T @ H3.T @ (p - s[0])\n",
    "sy.expand(l).trigsimp()"
   ]
  },
  {
   "cell_type": "code",
   "execution_count": 8,
   "id": "fe32f6be-c9b6-4f56-814f-5dd0be5dc6a7",
   "metadata": {},
   "outputs": [
    {
     "data": {
      "text/latex": [
       "$\\displaystyle \\left[\\begin{matrix}w \\left(c_{1} \\sin{\\left(\\bar\\alpha \\right)} + c_{2} \\cos{\\left(\\bar\\alpha \\right)} - \\frac{c_{3} \\cos{\\left(\\alpha - \\bar\\alpha \\right)}}{\\tan{\\left(\\eta \\right)}} + \\frac{d \\sin{\\left(\\beta \\right)} \\cos{\\left(\\alpha - \\bar\\alpha \\right)}}{2 \\tan{\\left(\\eta \\right)}} + \\frac{d \\cos{\\left(\\beta \\right)}}{2} - p_{1} \\sin{\\left(\\bar\\alpha \\right)} - p_{2} \\cos{\\left(\\bar\\alpha \\right)}\\right)\\end{matrix}\\right]$"
      ],
      "text/plain": [
       "Matrix([[w*(c_1*sin(\\bar\\alpha) + c_2*cos(\\bar\\alpha) - c_3*cos(\\alpha - \\bar\\alpha)/tan(\\eta) + d*sin(\\beta)*cos(\\alpha - \\bar\\alpha)/(2*tan(\\eta)) + d*cos(\\beta)/2 - p_1*sin(\\bar\\alpha) - p_2*cos(\\bar\\alpha))]])"
      ]
     },
     "execution_count": 8,
     "metadata": {},
     "output_type": "execute_result"
    }
   ],
   "source": [
    "l = Delta_s[2].T @ H3.T @ (p - s[2])\n",
    "sy.expand(l).trigsimp()"
   ]
  },
  {
   "cell_type": "code",
   "execution_count": 9,
   "id": "41ae594a-9656-4dd3-9a32-9b4a913a940c",
   "metadata": {},
   "outputs": [
    {
     "data": {
      "text/latex": [
       "$\\displaystyle \\left[\\begin{matrix}d \\left(\\frac{c_{1} \\sin{\\left(\\beta \\right)} \\cos{\\left(\\alpha \\right)}}{\\tan{\\left(\\eta \\right)}} + c_{1} \\cos{\\left(\\bar\\alpha \\right)} \\cos{\\left(\\beta \\right)} - \\frac{c_{2} \\sin{\\left(\\alpha \\right)} \\sin{\\left(\\beta \\right)}}{\\tan{\\left(\\eta \\right)}} - c_{2} \\sin{\\left(\\bar\\alpha \\right)} \\cos{\\left(\\beta \\right)} - \\frac{c_{3} \\sin{\\left(\\alpha - \\bar\\alpha \\right)} \\cos{\\left(\\beta \\right)}}{\\tan{\\left(\\eta \\right)}} - \\frac{p_{1} \\sin{\\left(\\beta \\right)} \\cos{\\left(\\alpha \\right)}}{\\tan{\\left(\\eta \\right)}} - p_{1} \\cos{\\left(\\bar\\alpha \\right)} \\cos{\\left(\\beta \\right)} + \\frac{p_{2} \\sin{\\left(\\alpha \\right)} \\sin{\\left(\\beta \\right)}}{\\tan{\\left(\\eta \\right)}} + p_{2} \\sin{\\left(\\bar\\alpha \\right)} \\cos{\\left(\\beta \\right)} + \\frac{w \\sin{\\left(\\beta \\right)} \\cos{\\left(\\alpha - \\bar\\alpha \\right)}}{2 \\tan{\\left(\\eta \\right)}} + \\frac{w \\cos{\\left(\\beta \\right)}}{2}\\right)\\end{matrix}\\right]$"
      ],
      "text/plain": [
       "Matrix([[d*(c_1*sin(\\beta)*cos(\\alpha)/tan(\\eta) + c_1*cos(\\bar\\alpha)*cos(\\beta) - c_2*sin(\\alpha)*sin(\\beta)/tan(\\eta) - c_2*sin(\\bar\\alpha)*cos(\\beta) - c_3*sin(\\alpha - \\bar\\alpha)*cos(\\beta)/tan(\\eta) - p_1*sin(\\beta)*cos(\\alpha)/tan(\\eta) - p_1*cos(\\bar\\alpha)*cos(\\beta) + p_2*sin(\\alpha)*sin(\\beta)/tan(\\eta) + p_2*sin(\\bar\\alpha)*cos(\\beta) + w*sin(\\beta)*cos(\\alpha - \\bar\\alpha)/(2*tan(\\eta)) + w*cos(\\beta)/2)]])"
      ]
     },
     "execution_count": 9,
     "metadata": {},
     "output_type": "execute_result"
    }
   ],
   "source": [
    "# Check the halfplane expression Delta s^T H^T (z - s) >= 0\n",
    "l = Delta_s[1].T @ H3.T @ (p - s[1])\n",
    "sy.expand(l).trigsimp()"
   ]
  },
  {
   "cell_type": "code",
   "execution_count": 10,
   "id": "539ef214-2075-48dc-b18c-60ce9332cd80",
   "metadata": {},
   "outputs": [
    {
     "data": {
      "text/latex": [
       "$\\displaystyle \\left[\\begin{matrix}d \\left(- \\frac{c_{1} \\sin{\\left(\\beta \\right)} \\cos{\\left(\\alpha \\right)}}{\\tan{\\left(\\eta \\right)}} - c_{1} \\cos{\\left(\\bar\\alpha \\right)} \\cos{\\left(\\beta \\right)} + \\frac{c_{2} \\sin{\\left(\\alpha \\right)} \\sin{\\left(\\beta \\right)}}{\\tan{\\left(\\eta \\right)}} + c_{2} \\sin{\\left(\\bar\\alpha \\right)} \\cos{\\left(\\beta \\right)} + \\frac{c_{3} \\sin{\\left(\\alpha - \\bar\\alpha \\right)} \\cos{\\left(\\beta \\right)}}{\\tan{\\left(\\eta \\right)}} + \\frac{p_{1} \\sin{\\left(\\beta \\right)} \\cos{\\left(\\alpha \\right)}}{\\tan{\\left(\\eta \\right)}} + p_{1} \\cos{\\left(\\bar\\alpha \\right)} \\cos{\\left(\\beta \\right)} - \\frac{p_{2} \\sin{\\left(\\alpha \\right)} \\sin{\\left(\\beta \\right)}}{\\tan{\\left(\\eta \\right)}} - p_{2} \\sin{\\left(\\bar\\alpha \\right)} \\cos{\\left(\\beta \\right)} + \\frac{w \\sin{\\left(\\beta \\right)} \\cos{\\left(\\alpha - \\bar\\alpha \\right)}}{2 \\tan{\\left(\\eta \\right)}} + \\frac{w \\cos{\\left(\\beta \\right)}}{2}\\right)\\end{matrix}\\right]$"
      ],
      "text/plain": [
       "Matrix([[d*(-c_1*sin(\\beta)*cos(\\alpha)/tan(\\eta) - c_1*cos(\\bar\\alpha)*cos(\\beta) + c_2*sin(\\alpha)*sin(\\beta)/tan(\\eta) + c_2*sin(\\bar\\alpha)*cos(\\beta) + c_3*sin(\\alpha - \\bar\\alpha)*cos(\\beta)/tan(\\eta) + p_1*sin(\\beta)*cos(\\alpha)/tan(\\eta) + p_1*cos(\\bar\\alpha)*cos(\\beta) - p_2*sin(\\alpha)*sin(\\beta)/tan(\\eta) - p_2*sin(\\bar\\alpha)*cos(\\beta) + w*sin(\\beta)*cos(\\alpha - \\bar\\alpha)/(2*tan(\\eta)) + w*cos(\\beta)/2)]])"
      ]
     },
     "execution_count": 10,
     "metadata": {},
     "output_type": "execute_result"
    }
   ],
   "source": [
    "# Check the halfplane expression Delta s^T H^T (z - s) >= 0\n",
    "l = Delta_s[3].T @ H3.T @ (p - s[3])\n",
    "sy.expand(l).trigsimp()"
   ]
  },
  {
   "cell_type": "code",
   "execution_count": 4,
   "id": "b0dc726b-52d3-4f47-9317-e74a6c280010",
   "metadata": {},
   "outputs": [
    {
     "data": {
      "text/latex": [
       "$\\displaystyle \\left[\\begin{matrix}\\frac{w \\left(\\frac{d \\sin{\\left(\\beta \\right)} \\cos{\\left(\\alpha - \\bar{\\alpha} \\right)}}{\\tan{\\left(\\eta \\right)}} - 2 d \\cos{\\left(\\bar{\\alpha} \\right)} + d \\cos{\\left(\\beta \\right)} + 2 p_{1} \\sin{\\left(\\bar{\\alpha} \\right)} + 2 p_{2} \\cos{\\left(\\bar{\\alpha} \\right)} - 2 w \\sin{\\left(\\bar{\\alpha} \\right)}\\right)}{2}\\end{matrix}\\right]$"
      ],
      "text/plain": [
       "Matrix([[w*(d*sin(\\beta)*cos(\\alpha - \\bar{\\alpha})/tan(\\eta) - 2*d*cos(\\bar{\\alpha}) + d*cos(\\beta) + 2*p_1*sin(\\bar{\\alpha}) + 2*p_2*cos(\\bar{\\alpha}) - 2*w*sin(\\bar{\\alpha}))/2]])"
      ]
     },
     "execution_count": 4,
     "metadata": {},
     "output_type": "execute_result"
    }
   ],
   "source": [
    "l = Delta_s[0].T @ H3.T @ p - s[1].T @ H3.T @ s[0]\n",
    "l.simplify()\n",
    "l"
   ]
  },
  {
   "cell_type": "code",
   "execution_count": 5,
   "id": "ef64a33f-3312-4b50-a412-5560b46633cc",
   "metadata": {},
   "outputs": [
    {
     "data": {
      "text/latex": [
       "$\\displaystyle \\left[\\begin{matrix}\\frac{w \\left(- \\frac{d \\sin{\\left(\\beta \\right)} \\cos{\\left(\\alpha - \\bar{\\alpha} \\right)}}{\\tan{\\left(\\eta \\right)}} + 2 d \\cos{\\left(\\bar{\\alpha} \\right)} - d \\cos{\\left(\\beta \\right)} + 2 w \\sin{\\left(\\bar{\\alpha} \\right)}\\right)}{2}\\end{matrix}\\right]$"
      ],
      "text/plain": [
       "Matrix([[w*(-d*sin(\\beta)*cos(\\alpha - \\bar{\\alpha})/tan(\\eta) + 2*d*cos(\\bar{\\alpha}) - d*cos(\\beta) + 2*w*sin(\\bar{\\alpha}))/2]])"
      ]
     },
     "execution_count": 5,
     "metadata": {},
     "output_type": "execute_result"
    }
   ],
   "source": [
    "l = s[1].T @ H3.T @ s[0]\n",
    "l.simplify()\n",
    "l"
   ]
  },
  {
   "cell_type": "code",
   "execution_count": 7,
   "id": "19080902-2503-4988-abc1-29ef38ab8edb",
   "metadata": {},
   "outputs": [
    {
     "data": {
      "text/latex": [
       "$\\displaystyle \\left[\\begin{matrix}\\cos{\\left(\\bar{\\alpha} \\right)} & \\frac{\\sin{\\left(\\alpha \\right)} \\sin{\\left(\\beta \\right)} \\cos{\\left(\\eta \\right)}}{\\sin{\\left(\\eta \\right)}} + \\sin{\\left(\\bar{\\alpha} \\right)} \\cos{\\left(\\beta \\right)} & - \\frac{\\sin{\\left(\\alpha \\right)} \\cos{\\left(\\beta \\right)} \\cos{\\left(\\eta \\right)}}{\\sin{\\left(\\eta \\right)}} + \\sin{\\left(\\bar{\\alpha} \\right)} \\sin{\\left(\\beta \\right)}\\\\- \\sin{\\left(\\bar{\\alpha} \\right)} & \\frac{\\sin{\\left(\\beta \\right)} \\cos{\\left(\\alpha \\right)} \\cos{\\left(\\eta \\right)}}{\\sin{\\left(\\eta \\right)}} + \\cos{\\left(\\bar{\\alpha} \\right)} \\cos{\\left(\\beta \\right)} & \\sin{\\left(\\beta \\right)} \\cos{\\left(\\bar{\\alpha} \\right)} - \\frac{\\cos{\\left(\\alpha \\right)} \\cos{\\left(\\beta \\right)} \\cos{\\left(\\eta \\right)}}{\\sin{\\left(\\eta \\right)}}\\\\0 & 0 & 0\\end{matrix}\\right]$"
      ],
      "text/plain": [
       "Matrix([\n",
       "[ cos(\\bar{\\alpha}), sin(\\alpha)*sin(\\beta)*cos(\\eta)/sin(\\eta) + sin(\\bar{\\alpha})*cos(\\beta), -sin(\\alpha)*cos(\\beta)*cos(\\eta)/sin(\\eta) + sin(\\bar{\\alpha})*sin(\\beta)],\n",
       "[-sin(\\bar{\\alpha}), sin(\\beta)*cos(\\alpha)*cos(\\eta)/sin(\\eta) + cos(\\bar{\\alpha})*cos(\\beta),  sin(\\beta)*cos(\\bar{\\alpha}) - cos(\\alpha)*cos(\\beta)*cos(\\eta)/sin(\\eta)],\n",
       "[                 0,                                                                         0,                                                                          0]])"
      ]
     },
     "execution_count": 7,
     "metadata": {},
     "output_type": "execute_result"
    }
   ],
   "source": [
    "M @ R3(planar_azimuth).T @ R1(planar_tilt).T"
   ]
  },
  {
   "cell_type": "code",
   "execution_count": 22,
   "id": "d5add015-1458-4ad1-81d5-eee256a1fc65",
   "metadata": {},
   "outputs": [
    {
     "data": {
      "text/latex": [
       "$\\displaystyle \\left[\\begin{matrix}0 & 1 & 0\\\\-1 & 0 & 0\\\\0 & 0 & 1\\end{matrix}\\right]$"
      ],
      "text/plain": [
       "Matrix([\n",
       "[ 0, 1, 0],\n",
       "[-1, 0, 0],\n",
       "[ 0, 0, 1]])"
      ]
     },
     "execution_count": 22,
     "metadata": {},
     "output_type": "execute_result"
    }
   ],
   "source": [
    "l = R3(planar_azimuth) @ H3.T @ R3(planar_azimuth).T\n",
    "l.simplify()\n",
    "l"
   ]
  },
  {
   "cell_type": "code",
   "execution_count": 3,
   "id": "eb2f0a4d-3153-4cd7-a177-c2eaa0ea2c30",
   "metadata": {},
   "outputs": [],
   "source": [
    "# Prev\n",
    "A_prev = vg0_prev[1] * M @ R3(planar_azimuth).T @ sy.Matrix([[sy.zeros(1,2)], [H0.T]])\n",
    "b_prev = M @ (vg0_prev[0] * R3(planar_azimuth).T @ e3[0] + c)\n",
    "\n",
    "# Next\n",
    "A_next = vg0_next[1] * M @ R3(planar_azimuth).T @ sy.Matrix([[sy.zeros(1,2)], [H0.T]])\n",
    "b_next = M @ (vg0_next[0] * R3(planar_azimuth).T @ e3[0] + c)\n",
    "\n",
    "Delta_A = A_next - A_prev\n",
    "Delta_b = b_next - b_prev"
   ]
  },
  {
   "cell_type": "code",
   "execution_count": 4,
   "id": "4561d514-fbd1-4d3c-bdfc-60a38b95288f",
   "metadata": {},
   "outputs": [
    {
     "name": "stdout",
     "output_type": "stream",
     "text": [
      "Matrix([[0], [0], [0]])\n",
      "Matrix([[0], [0], [0]])\n"
     ]
    }
   ],
   "source": [
    "# Check Au + b == Delta_s H' (x - s)\n",
    "l = A_prev @ u(planar_tilt) + b_prev - sg_prev\n",
    "l.simplify()\n",
    "print(l)\n",
    "\n",
    "l = A_next @ u(planar_tilt) + b_next - sg_next\n",
    "l.simplify()\n",
    "print(l)"
   ]
  },
  {
   "cell_type": "code",
   "execution_count": 5,
   "id": "7e91bb36-ba58-43a2-b6d2-9652b84509be",
   "metadata": {},
   "outputs": [
    {
     "data": {
      "text/latex": [
       "$\\displaystyle \\left[\\begin{matrix}0\\end{matrix}\\right]$"
      ],
      "text/plain": [
       "Matrix([[0]])"
      ]
     },
     "execution_count": 5,
     "metadata": {},
     "output_type": "execute_result"
    }
   ],
   "source": [
    "# Write the shadw set inequality as a function of g.T u(planar_tilt) >= d\n",
    "g = Delta_A.T @ H3.T @ (x - b_prev) - A_prev.T @ H3 @ Delta_b # c in the paper\n",
    "d = Delta_b.T @ H3.T @ (b_prev - x)\n",
    "\n",
    "# Verify\n",
    "l = (g.T @ u(planar_tilt) - d) - (Delta_sg.T @ H3.T @ (x - sg_prev))\n",
    "l.simplify()\n",
    "l"
   ]
  },
  {
   "cell_type": "code",
   "execution_count": 16,
   "id": "f1549754-e852-46fd-b69d-3235400d30f7",
   "metadata": {},
   "outputs": [
    {
     "data": {
      "text/latex": [
       "$\\displaystyle \\left[\\begin{matrix}\\frac{- \\left(\\tilde{v}_{ij,2} \\left(\\tilde{v}_{ij+1,1} - \\tilde{v}_{ij,1}\\right) \\cos{\\left(\\alpha - \\bar{\\alpha} \\right)} + \\left(- \\tilde{v}_{ij+1,2} + \\tilde{v}_{ij,2}\\right) \\left(\\tilde{v}_{ij,1} \\cos{\\left(\\alpha - \\bar{\\alpha} \\right)} + c_{1} \\cos{\\left(\\alpha \\right)} - c_{2} \\sin{\\left(\\alpha \\right)} - x_{1} \\cos{\\left(\\alpha \\right)} + x_{2} \\sin{\\left(\\alpha \\right)}\\right)\\right) \\sin{\\left(\\beta \\right)} \\sin{\\left(\\eta \\right)} + \\left(\\left(- \\tilde{v}_{ij+1,1} + \\tilde{v}_{ij,1}\\right) \\left(- c_{3} \\sin{\\left(\\alpha \\right)} \\cos{\\left(\\eta \\right)} + \\left(\\tilde{v}_{ij,1} \\cos{\\left(\\bar{\\alpha} \\right)} + c_{1} - x_{1}\\right) \\sin{\\left(\\eta \\right)}\\right) \\sin{\\left(\\bar{\\alpha} \\right)} + \\left(\\tilde{v}_{ij+1,1} - \\tilde{v}_{ij,1}\\right) \\left(c_{3} \\cos{\\left(\\alpha \\right)} \\cos{\\left(\\eta \\right)} + \\left(\\tilde{v}_{ij,1} \\sin{\\left(\\bar{\\alpha} \\right)} - c_{2} + x_{2}\\right) \\sin{\\left(\\eta \\right)}\\right) \\cos{\\left(\\bar{\\alpha} \\right)} - \\left(\\tilde{v}_{ij,2} \\left(\\tilde{v}_{ij+1,1} - \\tilde{v}_{ij,1}\\right) \\sin{\\left(\\eta \\right)} + \\left(- \\tilde{v}_{ij+1,2} + \\tilde{v}_{ij,2}\\right) \\left(c_{3} \\cos{\\left(\\alpha \\right)} \\cos{\\left(\\eta \\right)} + \\left(\\tilde{v}_{ij,1} \\sin{\\left(\\bar{\\alpha} \\right)} - c_{2} + x_{2}\\right) \\sin{\\left(\\eta \\right)}\\right) \\sin{\\left(\\bar{\\alpha} \\right)} + \\left(\\tilde{v}_{ij+1,2} - \\tilde{v}_{ij,2}\\right) \\left(c_{3} \\sin{\\left(\\alpha \\right)} \\cos{\\left(\\eta \\right)} - \\left(\\tilde{v}_{ij,1} \\cos{\\left(\\bar{\\alpha} \\right)} + c_{1} - x_{1}\\right) \\sin{\\left(\\eta \\right)}\\right) \\cos{\\left(\\bar{\\alpha} \\right)}\\right) \\cos{\\left(\\beta \\right)}\\right) \\tan{\\left(\\eta \\right)}}{\\sin{\\left(\\eta \\right)} \\tan{\\left(\\eta \\right)}}\\end{matrix}\\right]$"
      ],
      "text/plain": [
       "Matrix([[(-(\\tilde{v}_{ij,2}*(\\tilde{v}_{ij+1,1} - \\tilde{v}_{ij,1})*cos(\\alpha - \\bar{\\alpha}) + (-\\tilde{v}_{ij+1,2} + \\tilde{v}_{ij,2})*(\\tilde{v}_{ij,1}*cos(\\alpha - \\bar{\\alpha}) + c_1*cos(\\alpha) - c_2*sin(\\alpha) - x_1*cos(\\alpha) + x_2*sin(\\alpha)))*sin(\\beta)*sin(\\eta) + ((-\\tilde{v}_{ij+1,1} + \\tilde{v}_{ij,1})*(-c_3*sin(\\alpha)*cos(\\eta) + (\\tilde{v}_{ij,1}*cos(\\bar{\\alpha}) + c_1 - x_1)*sin(\\eta))*sin(\\bar{\\alpha}) + (\\tilde{v}_{ij+1,1} - \\tilde{v}_{ij,1})*(c_3*cos(\\alpha)*cos(\\eta) + (\\tilde{v}_{ij,1}*sin(\\bar{\\alpha}) - c_2 + x_2)*sin(\\eta))*cos(\\bar{\\alpha}) - (\\tilde{v}_{ij,2}*(\\tilde{v}_{ij+1,1} - \\tilde{v}_{ij,1})*sin(\\eta) + (-\\tilde{v}_{ij+1,2} + \\tilde{v}_{ij,2})*(c_3*cos(\\alpha)*cos(\\eta) + (\\tilde{v}_{ij,1}*sin(\\bar{\\alpha}) - c_2 + x_2)*sin(\\eta))*sin(\\bar{\\alpha}) + (\\tilde{v}_{ij+1,2} - \\tilde{v}_{ij,2})*(c_3*sin(\\alpha)*cos(\\eta) - (\\tilde{v}_{ij,1}*cos(\\bar{\\alpha}) + c_1 - x_1)*sin(\\eta))*cos(\\bar{\\alpha}))*cos(\\beta))*tan(\\eta))/(sin(\\eta)*tan(\\eta))]])"
      ]
     },
     "execution_count": 16,
     "metadata": {},
     "output_type": "execute_result"
    }
   ],
   "source": [
    "l = (g.T @ u(planar_tilt) - d).subs({})\n",
    "l.simplify()\n",
    "l"
   ]
  },
  {
   "cell_type": "code",
   "execution_count": 17,
   "id": "7e60f605-ff6e-46db-a484-917dfdce3c5a",
   "metadata": {},
   "outputs": [
    {
     "data": {
      "text/latex": [
       "$\\displaystyle \\left[\\begin{matrix}\\frac{\\left(\\tilde{v}_{ij+1,2} - \\tilde{v}_{ij,2}\\right) \\sin{\\left(\\alpha \\right)}}{\\tan{\\left(\\eta \\right)}} & \\left(\\tilde{v}_{ij+1,2} - \\tilde{v}_{ij,2}\\right) \\sin{\\left(\\bar{\\alpha} \\right)}\\\\\\frac{\\left(\\tilde{v}_{ij+1,2} - \\tilde{v}_{ij,2}\\right) \\cos{\\left(\\alpha \\right)}}{\\tan{\\left(\\eta \\right)}} & \\left(\\tilde{v}_{ij+1,2} - \\tilde{v}_{ij,2}\\right) \\cos{\\left(\\bar{\\alpha} \\right)}\\\\0 & 0\\end{matrix}\\right]$"
      ],
      "text/plain": [
       "Matrix([\n",
       "[(\\tilde{v}_{ij+1,2} - \\tilde{v}_{ij,2})*sin(\\alpha)/tan(\\eta), (\\tilde{v}_{ij+1,2} - \\tilde{v}_{ij,2})*sin(\\bar{\\alpha})],\n",
       "[(\\tilde{v}_{ij+1,2} - \\tilde{v}_{ij,2})*cos(\\alpha)/tan(\\eta), (\\tilde{v}_{ij+1,2} - \\tilde{v}_{ij,2})*cos(\\bar{\\alpha})],\n",
       "[                                                            0,                                                         0]])"
      ]
     },
     "execution_count": 17,
     "metadata": {},
     "output_type": "execute_result"
    }
   ],
   "source": [
    "Delta_A.simplify()\n",
    "Delta_A"
   ]
  },
  {
   "cell_type": "code",
   "execution_count": 8,
   "id": "f361cf60-392f-4c01-aea2-e922fc7f8710",
   "metadata": {},
   "outputs": [
    {
     "data": {
      "text/latex": [
       "$\\displaystyle \\left[\\begin{matrix}0\\end{matrix}\\right]$"
      ],
      "text/plain": [
       "Matrix([[0]])"
      ]
     },
     "execution_count": 8,
     "metadata": {},
     "output_type": "execute_result"
    }
   ],
   "source": [
    "# Check that the quadratic term in the expansion of Delta s H (z - x) >= 0 is null\n",
    "l = u(planar_tilt).T @ Delta_A.T @ H3.T @ A_prev @ u(planar_tilt)\n",
    "l.simplify()\n",
    "l"
   ]
  },
  {
   "cell_type": "code",
   "execution_count": 28,
   "id": "d067b91b-6dfc-437b-b472-e685e4a49449",
   "metadata": {},
   "outputs": [
    {
     "data": {
      "text/latex": [
       "$\\displaystyle \\left[\\begin{matrix}\\tilde{v}_{ij,1} \\cos{\\left(\\bar{\\alpha} \\right)} + \\frac{\\tilde{v}_{ij,2} \\sin{\\left(\\alpha \\right)} \\sin{\\left(\\beta \\right)}}{\\tan{\\left(\\eta \\right)}} + \\tilde{v}_{ij,2} \\sin{\\left(\\bar{\\alpha} \\right)} \\cos{\\left(\\beta \\right)} + c_{1} - \\frac{c_{3} \\sin{\\left(\\alpha \\right)}}{\\tan{\\left(\\eta \\right)}}\\\\- \\tilde{v}_{ij,1} \\sin{\\left(\\bar{\\alpha} \\right)} + \\frac{\\tilde{v}_{ij,2} \\sin{\\left(\\beta \\right)} \\cos{\\left(\\alpha \\right)}}{\\tan{\\left(\\eta \\right)}} + \\tilde{v}_{ij,2} \\cos{\\left(\\bar{\\alpha} \\right)} \\cos{\\left(\\beta \\right)} + c_{2} - \\frac{c_{3} \\cos{\\left(\\alpha \\right)}}{\\tan{\\left(\\eta \\right)}}\\\\0\\end{matrix}\\right]$"
      ],
      "text/plain": [
       "Matrix([\n",
       "[ \\tilde{v}_{ij,1}*cos(\\bar{\\alpha}) + \\tilde{v}_{ij,2}*sin(\\alpha)*sin(\\beta)/tan(\\eta) + \\tilde{v}_{ij,2}*sin(\\bar{\\alpha})*cos(\\beta) + c_1 - c_3*sin(\\alpha)/tan(\\eta)],\n",
       "[-\\tilde{v}_{ij,1}*sin(\\bar{\\alpha}) + \\tilde{v}_{ij,2}*sin(\\beta)*cos(\\alpha)/tan(\\eta) + \\tilde{v}_{ij,2}*cos(\\bar{\\alpha})*cos(\\beta) + c_2 - c_3*cos(\\alpha)/tan(\\eta)],\n",
       "[                                                                                                                                                                        0]])"
      ]
     },
     "execution_count": 28,
     "metadata": {},
     "output_type": "execute_result"
    }
   ],
   "source": [
    "sg_prev.simplify()\n",
    "sg_prev"
   ]
  },
  {
   "cell_type": "code",
   "execution_count": 90,
   "id": "ee1194ed-b407-43ba-aa6d-7f97e6cb0c31",
   "metadata": {},
   "outputs": [
    {
     "data": {
      "text/latex": [
       "$\\displaystyle \\left[\\begin{matrix}- \\left(x_{1} \\sin{\\left(\\bar{\\alpha} \\right)} \\sin{\\left(\\beta \\right)} + x_{2} \\sin{\\left(\\beta \\right)} \\cos{\\left(\\bar{\\alpha} \\right)} + x_{3} \\cos{\\left(\\beta \\right)}\\right) \\sin{\\left(\\alpha - \\bar{\\alpha} \\right)} \\cos{\\left(\\eta \\right)}\\\\\\left(\\sin{\\left(\\beta \\right)} \\sin{\\left(\\eta \\right)} - \\cos{\\left(\\beta \\right)} \\cos{\\left(\\eta \\right)} \\cos{\\left(\\alpha - \\bar{\\alpha} \\right)}\\right) \\left(x_{1} \\sin{\\left(\\bar{\\alpha} \\right)} \\sin{\\left(\\beta \\right)} + x_{2} \\sin{\\left(\\beta \\right)} \\cos{\\left(\\bar{\\alpha} \\right)} + x_{3} \\cos{\\left(\\beta \\right)}\\right)\\\\- \\left(\\sin{\\left(\\beta \\right)} \\cos{\\left(\\eta \\right)} \\cos{\\left(\\alpha - \\bar{\\alpha} \\right)} + \\sin{\\left(\\eta \\right)} \\cos{\\left(\\beta \\right)}\\right) \\left(x_{1} \\sin{\\left(\\bar{\\alpha} \\right)} \\sin{\\left(\\beta \\right)} + x_{2} \\sin{\\left(\\beta \\right)} \\cos{\\left(\\bar{\\alpha} \\right)} + x_{3} \\cos{\\left(\\beta \\right)}\\right)\\end{matrix}\\right]$"
      ],
      "text/plain": [
       "Matrix([\n",
       "[                                    -(x_1*sin(\\bar{\\alpha})*sin(\\beta) + x_2*sin(\\beta)*cos(\\bar{\\alpha}) + x_3*cos(\\beta))*sin(\\alpha - \\bar{\\alpha})*cos(\\eta)],\n",
       "[ (sin(\\beta)*sin(\\eta) - cos(\\beta)*cos(\\eta)*cos(\\alpha - \\bar{\\alpha}))*(x_1*sin(\\bar{\\alpha})*sin(\\beta) + x_2*sin(\\beta)*cos(\\bar{\\alpha}) + x_3*cos(\\beta))],\n",
       "[-(sin(\\beta)*cos(\\eta)*cos(\\alpha - \\bar{\\alpha}) + sin(\\eta)*cos(\\beta))*(x_1*sin(\\bar{\\alpha})*sin(\\beta) + x_2*sin(\\beta)*cos(\\bar{\\alpha}) + x_3*cos(\\beta))]])"
      ]
     },
     "execution_count": 90,
     "metadata": {},
     "output_type": "execute_result"
    }
   ],
   "source": [
    "l = (e3[2].T @ R1(planar_tilt) @ R3(planar_azimuth) @ x)[0] * R1(planar_tilt) @ R3(planar_azimuth) @ n\n",
    "l.simplify()\n",
    "l"
   ]
  },
  {
   "cell_type": "code",
   "execution_count": 118,
   "id": "efe23612-78f4-4f76-9f94-290a02d05735",
   "metadata": {},
   "outputs": [
    {
     "data": {
      "text/latex": [
       "$\\displaystyle \\left[\\begin{matrix}0\\end{matrix}\\right]$"
      ],
      "text/plain": [
       "Matrix([[0]])"
      ]
     },
     "execution_count": 118,
     "metadata": {},
     "output_type": "execute_result"
    }
   ],
   "source": [
    "z = sy.Matrix([sy.Symbol(\"z_1\"), sy.Symbol(\"z_2\")])\n",
    "l = z.T @ (A_next - A_prev).T @ H3.T @ A_prev @ z\n",
    "l.simplify()\n",
    "l"
   ]
  },
  {
   "cell_type": "code",
   "execution_count": 120,
   "id": "82c35d2b-479e-4f6e-ae43-ec74aa33863e",
   "metadata": {},
   "outputs": [
    {
     "data": {
      "text/latex": [
       "$\\displaystyle \\left[\\begin{matrix}0\\end{matrix}\\right]$"
      ],
      "text/plain": [
       "Matrix([[0]])"
      ]
     },
     "execution_count": 120,
     "metadata": {},
     "output_type": "execute_result"
    }
   ],
   "source": [
    "l = z.T @ A_next.T @ H3.T @ A_prev @ z\n",
    "l.simplify()\n",
    "l"
   ]
  },
  {
   "cell_type": "code",
   "execution_count": 55,
   "id": "1013ab22-0e80-4753-a339-78b9715131d5",
   "metadata": {},
   "outputs": [
    {
     "data": {
      "text/latex": [
       "$\\displaystyle \\left[\\begin{matrix}\\tilde{v}_{ij,1} \\cos{\\left(\\bar{\\alpha} \\right)} + \\frac{\\tilde{v}_{ij,2} \\sin{\\left(\\alpha \\right)} \\sin{\\left(\\beta \\right)}}{\\tan{\\left(\\eta \\right)}} + \\tilde{v}_{ij,2} \\sin{\\left(\\bar{\\alpha} \\right)} \\cos{\\left(\\beta \\right)} + c_{1} - \\frac{c_{3} \\sin{\\left(\\alpha \\right)}}{\\tan{\\left(\\eta \\right)}}\\\\- \\tilde{v}_{ij,1} \\sin{\\left(\\bar{\\alpha} \\right)} + \\frac{\\tilde{v}_{ij,2} \\sin{\\left(\\beta \\right)} \\cos{\\left(\\alpha \\right)}}{\\tan{\\left(\\eta \\right)}} + \\tilde{v}_{ij,2} \\cos{\\left(\\bar{\\alpha} \\right)} \\cos{\\left(\\beta \\right)} + c_{2} - \\frac{c_{3} \\cos{\\left(\\alpha \\right)}}{\\tan{\\left(\\eta \\right)}}\\\\0\\end{matrix}\\right]$"
      ],
      "text/plain": [
       "Matrix([\n",
       "[ \\tilde{v}_{ij,1}*cos(\\bar{\\alpha}) + \\tilde{v}_{ij,2}*sin(\\alpha)*sin(\\beta)/tan(\\eta) + \\tilde{v}_{ij,2}*sin(\\bar{\\alpha})*cos(\\beta) + c_1 - c_3*sin(\\alpha)/tan(\\eta)],\n",
       "[-\\tilde{v}_{ij,1}*sin(\\bar{\\alpha}) + \\tilde{v}_{ij,2}*sin(\\beta)*cos(\\alpha)/tan(\\eta) + \\tilde{v}_{ij,2}*cos(\\bar{\\alpha})*cos(\\beta) + c_2 - c_3*cos(\\alpha)/tan(\\eta)],\n",
       "[                                                                                                                                                                        0]])"
      ]
     },
     "execution_count": 55,
     "metadata": {},
     "output_type": "execute_result"
    }
   ],
   "source": [
    "l = A @ u(planar_tilt) + b\n",
    "l.simplify()\n",
    "l"
   ]
  },
  {
   "cell_type": "code",
   "execution_count": 65,
   "id": "723533ad-9892-4b7a-9816-1995e7999b2e",
   "metadata": {},
   "outputs": [
    {
     "data": {
      "text/latex": [
       "$\\displaystyle \\left[\\begin{matrix}\\frac{- \\left(\\left(\\tilde{v}_{ij,2} \\sin{\\left(\\beta \\right)} - c_{3}\\right) \\sin{\\left(\\alpha \\right)} \\cos{\\left(\\eta \\right)} + \\left(\\tilde{v}_{ij,1} \\cos{\\left(\\bar{\\alpha} \\right)} + \\tilde{v}_{ij,2} \\sin{\\left(\\bar{\\alpha} \\right)} \\cos{\\left(\\beta \\right)} + c_{1} - x_{1}\\right) \\sin{\\left(\\eta \\right)}\\right) \\left(- \\left(\\tilde{v}_{ij+1,2} \\sin{\\left(\\beta \\right)} - c_{3}\\right) \\cos{\\left(\\alpha \\right)} \\cos{\\left(\\eta \\right)} + \\left(\\tilde{v}_{ij,2} \\sin{\\left(\\beta \\right)} - c_{3}\\right) \\cos{\\left(\\alpha \\right)} \\cos{\\left(\\eta \\right)} + \\left(\\tilde{v}_{ij+1,1} \\sin{\\left(\\bar{\\alpha} \\right)} - \\tilde{v}_{ij+1,2} \\cos{\\left(\\bar{\\alpha} \\right)} \\cos{\\left(\\beta \\right)} - \\tilde{v}_{ij,1} \\sin{\\left(\\bar{\\alpha} \\right)} + \\tilde{v}_{ij,2} \\cos{\\left(\\bar{\\alpha} \\right)} \\cos{\\left(\\beta \\right)}\\right) \\sin{\\left(\\eta \\right)}\\right) - \\left(\\left(\\tilde{v}_{ij,2} \\sin{\\left(\\beta \\right)} - c_{3}\\right) \\cos{\\left(\\alpha \\right)} \\cos{\\left(\\eta \\right)} + \\left(- \\tilde{v}_{ij,1} \\sin{\\left(\\bar{\\alpha} \\right)} + \\tilde{v}_{ij,2} \\cos{\\left(\\bar{\\alpha} \\right)} \\cos{\\left(\\beta \\right)} + c_{2} - x_{2}\\right) \\sin{\\left(\\eta \\right)}\\right) \\left(\\left(\\tilde{v}_{ij+1,2} \\sin{\\left(\\beta \\right)} - c_{3}\\right) \\sin{\\left(\\alpha \\right)} \\cos{\\left(\\eta \\right)} - \\left(\\tilde{v}_{ij,2} \\sin{\\left(\\beta \\right)} - c_{3}\\right) \\sin{\\left(\\alpha \\right)} \\cos{\\left(\\eta \\right)} + \\left(\\tilde{v}_{ij+1,1} \\cos{\\left(\\bar{\\alpha} \\right)} + \\tilde{v}_{ij+1,2} \\sin{\\left(\\bar{\\alpha} \\right)} \\cos{\\left(\\beta \\right)} - \\tilde{v}_{ij,1} \\cos{\\left(\\bar{\\alpha} \\right)} - \\tilde{v}_{ij,2} \\sin{\\left(\\bar{\\alpha} \\right)} \\cos{\\left(\\beta \\right)}\\right) \\sin{\\left(\\eta \\right)}\\right)}{\\sin^{2}{\\left(\\eta \\right)}}\\end{matrix}\\right]$"
      ],
      "text/plain": [
       "Matrix([[(-((\\tilde{v}_{ij,2}*sin(\\beta) - c_3)*sin(\\alpha)*cos(\\eta) + (\\tilde{v}_{ij,1}*cos(\\bar{\\alpha}) + \\tilde{v}_{ij,2}*sin(\\bar{\\alpha})*cos(\\beta) + c_1 - x_1)*sin(\\eta))*(-(\\tilde{v}_{ij+1,2}*sin(\\beta) - c_3)*cos(\\alpha)*cos(\\eta) + (\\tilde{v}_{ij,2}*sin(\\beta) - c_3)*cos(\\alpha)*cos(\\eta) + (\\tilde{v}_{ij+1,1}*sin(\\bar{\\alpha}) - \\tilde{v}_{ij+1,2}*cos(\\bar{\\alpha})*cos(\\beta) - \\tilde{v}_{ij,1}*sin(\\bar{\\alpha}) + \\tilde{v}_{ij,2}*cos(\\bar{\\alpha})*cos(\\beta))*sin(\\eta)) - ((\\tilde{v}_{ij,2}*sin(\\beta) - c_3)*cos(\\alpha)*cos(\\eta) + (-\\tilde{v}_{ij,1}*sin(\\bar{\\alpha}) + \\tilde{v}_{ij,2}*cos(\\bar{\\alpha})*cos(\\beta) + c_2 - x_2)*sin(\\eta))*((\\tilde{v}_{ij+1,2}*sin(\\beta) - c_3)*sin(\\alpha)*cos(\\eta) - (\\tilde{v}_{ij,2}*sin(\\beta) - c_3)*sin(\\alpha)*cos(\\eta) + (\\tilde{v}_{ij+1,1}*cos(\\bar{\\alpha}) + \\tilde{v}_{ij+1,2}*sin(\\bar{\\alpha})*cos(\\beta) - \\tilde{v}_{ij,1}*cos(\\bar{\\alpha}) - \\tilde{v}_{ij,2}*sin(\\bar{\\alpha})*cos(\\beta))*sin(\\eta)))/sin(\\eta)**2]])"
      ]
     },
     "execution_count": 65,
     "metadata": {},
     "output_type": "execute_result"
    }
   ],
   "source": [
    "l = (sg_next - sg_prev).T @ H3.T @ (x - sg_prev) \n",
    "l.simplify()\n",
    "l"
   ]
  },
  {
   "cell_type": "code",
   "execution_count": 63,
   "id": "88dcba71-6a23-441c-bde9-53fc6f48ccc1",
   "metadata": {},
   "outputs": [
    {
     "data": {
      "text/latex": [
       "$\\displaystyle \\left[\\begin{matrix}\\tilde{v}_{ij+1,1} \\cos{\\left(\\bar{\\alpha} \\right)} + \\tilde{v}_{ij+1,2} \\sin{\\left(\\bar{\\alpha} \\right)} \\cos{\\left(\\beta \\right)} - \\tilde{v}_{ij,1} \\cos{\\left(\\bar{\\alpha} \\right)} - \\tilde{v}_{ij,2} \\sin{\\left(\\bar{\\alpha} \\right)} \\cos{\\left(\\beta \\right)} - \\frac{\\left(- \\tilde{v}_{ij+1,2} \\sin{\\left(\\beta \\right)} + c_{3}\\right) \\sin{\\left(\\alpha \\right)} \\cos{\\left(\\eta \\right)}}{\\sin{\\left(\\eta \\right)}} + \\frac{\\left(- \\tilde{v}_{ij,2} \\sin{\\left(\\beta \\right)} + c_{3}\\right) \\sin{\\left(\\alpha \\right)} \\cos{\\left(\\eta \\right)}}{\\sin{\\left(\\eta \\right)}}\\\\- \\tilde{v}_{ij+1,1} \\sin{\\left(\\bar{\\alpha} \\right)} + \\tilde{v}_{ij+1,2} \\cos{\\left(\\bar{\\alpha} \\right)} \\cos{\\left(\\beta \\right)} + \\tilde{v}_{ij,1} \\sin{\\left(\\bar{\\alpha} \\right)} - \\tilde{v}_{ij,2} \\cos{\\left(\\bar{\\alpha} \\right)} \\cos{\\left(\\beta \\right)} - \\frac{\\left(- \\tilde{v}_{ij+1,2} \\sin{\\left(\\beta \\right)} + c_{3}\\right) \\cos{\\left(\\alpha \\right)} \\cos{\\left(\\eta \\right)}}{\\sin{\\left(\\eta \\right)}} + \\frac{\\left(- \\tilde{v}_{ij,2} \\sin{\\left(\\beta \\right)} + c_{3}\\right) \\cos{\\left(\\alpha \\right)} \\cos{\\left(\\eta \\right)}}{\\sin{\\left(\\eta \\right)}}\\\\0\\end{matrix}\\right]$"
      ],
      "text/plain": [
       "Matrix([\n",
       "[ \\tilde{v}_{ij+1,1}*cos(\\bar{\\alpha}) + \\tilde{v}_{ij+1,2}*sin(\\bar{\\alpha})*cos(\\beta) - \\tilde{v}_{ij,1}*cos(\\bar{\\alpha}) - \\tilde{v}_{ij,2}*sin(\\bar{\\alpha})*cos(\\beta) - (-\\tilde{v}_{ij+1,2}*sin(\\beta) + c_3)*sin(\\alpha)*cos(\\eta)/sin(\\eta) + (-\\tilde{v}_{ij,2}*sin(\\beta) + c_3)*sin(\\alpha)*cos(\\eta)/sin(\\eta)],\n",
       "[-\\tilde{v}_{ij+1,1}*sin(\\bar{\\alpha}) + \\tilde{v}_{ij+1,2}*cos(\\bar{\\alpha})*cos(\\beta) + \\tilde{v}_{ij,1}*sin(\\bar{\\alpha}) - \\tilde{v}_{ij,2}*cos(\\bar{\\alpha})*cos(\\beta) - (-\\tilde{v}_{ij+1,2}*sin(\\beta) + c_3)*cos(\\alpha)*cos(\\eta)/sin(\\eta) + (-\\tilde{v}_{ij,2}*sin(\\beta) + c_3)*cos(\\alpha)*cos(\\eta)/sin(\\eta)],\n",
       "[                                                                                                                                                                                                                                                                                                                           0]])"
      ]
     },
     "execution_count": 63,
     "metadata": {},
     "output_type": "execute_result"
    }
   ],
   "source": []
  },
  {
   "cell_type": "code",
   "execution_count": 53,
   "id": "aca7d8d1-5999-41a8-b77a-27f5dc04a5c0",
   "metadata": {},
   "outputs": [
    {
     "data": {
      "text/latex": [
       "$\\displaystyle \\left[\\begin{matrix}\\tilde{v}_{ij,1} \\cos{\\left(\\bar{\\alpha} \\right)} + \\frac{\\tilde{v}_{ij,2} \\sin{\\left(\\alpha \\right)} \\sin{\\left(\\beta \\right)}}{\\tan{\\left(\\eta \\right)}} + \\tilde{v}_{ij,2} \\sin{\\left(\\bar{\\alpha} \\right)} \\cos{\\left(\\beta \\right)} + c_{1} - \\frac{c_{3} \\sin{\\left(\\alpha \\right)}}{\\tan{\\left(\\eta \\right)}}\\\\- \\tilde{v}_{ij,1} \\sin{\\left(\\bar{\\alpha} \\right)} + \\frac{\\tilde{v}_{ij,2} \\sin{\\left(\\beta \\right)} \\cos{\\left(\\alpha \\right)}}{\\tan{\\left(\\eta \\right)}} + \\tilde{v}_{ij,2} \\cos{\\left(\\bar{\\alpha} \\right)} \\cos{\\left(\\beta \\right)} + c_{2} - \\frac{c_{3} \\cos{\\left(\\alpha \\right)}}{\\tan{\\left(\\eta \\right)}}\\\\0\\end{matrix}\\right]$"
      ],
      "text/plain": [
       "Matrix([\n",
       "[ \\tilde{v}_{ij,1}*cos(\\bar{\\alpha}) + \\tilde{v}_{ij,2}*sin(\\alpha)*sin(\\beta)/tan(\\eta) + \\tilde{v}_{ij,2}*sin(\\bar{\\alpha})*cos(\\beta) + c_1 - c_3*sin(\\alpha)/tan(\\eta)],\n",
       "[-\\tilde{v}_{ij,1}*sin(\\bar{\\alpha}) + \\tilde{v}_{ij,2}*sin(\\beta)*cos(\\alpha)/tan(\\eta) + \\tilde{v}_{ij,2}*cos(\\bar{\\alpha})*cos(\\beta) + c_2 - c_3*cos(\\alpha)/tan(\\eta)],\n",
       "[                                                                                                                                                                        0]])"
      ]
     },
     "execution_count": 53,
     "metadata": {},
     "output_type": "execute_result"
    }
   ],
   "source": [
    "sg.simplify()\n",
    "sg"
   ]
  },
  {
   "cell_type": "code",
   "execution_count": 63,
   "id": "621a9994-6f47-4c48-8802-a44b7cf16bae",
   "metadata": {},
   "outputs": [
    {
     "data": {
      "text/latex": [
       "$\\displaystyle \\left[\\begin{matrix}\\frac{w \\left(- 2 c_{x} \\sin{\\left(\\bar{\\alpha} \\right)} - 2 c_{y} \\cos{\\left(\\bar{\\alpha} \\right)} + \\frac{d \\sin{\\left(\\beta \\right)} \\cos{\\left(\\alpha - \\bar{\\alpha} \\right)}}{\\tan{\\left(\\eta \\right)}} + d \\cos{\\left(\\beta \\right)} + \\frac{2 h \\cos{\\left(\\alpha - \\bar{\\alpha} \\right)}}{\\tan{\\left(\\eta \\right)}} + 2 x_{1} \\sin{\\left(\\bar{\\alpha} \\right)} + 2 x_{2} \\cos{\\left(\\bar{\\alpha} \\right)}\\right)}{2}\\end{matrix}\\right]$"
      ],
      "text/plain": [
       "Matrix([[w*(-2*c_x*sin(\\bar{\\alpha}) - 2*c_y*cos(\\bar{\\alpha}) + d*sin(\\beta)*cos(\\alpha - \\bar{\\alpha})/tan(\\eta) + d*cos(\\beta) + 2*h*cos(\\alpha - \\bar{\\alpha})/tan(\\eta) + 2*x_1*sin(\\bar{\\alpha}) + 2*x_2*cos(\\bar{\\alpha}))/2]])"
      ]
     },
     "execution_count": 63,
     "metadata": {},
     "output_type": "execute_result"
    }
   ],
   "source": [
    "l = (s[1] - s[0]).T @ H.T @ (x - s[0])\n",
    "l.simplify()\n",
    "l"
   ]
  },
  {
   "cell_type": "code",
   "execution_count": 71,
   "id": "9a5b930b-7057-4bf5-ad0a-1184171eeb13",
   "metadata": {},
   "outputs": [
    {
     "data": {
      "text/latex": [
       "$\\displaystyle \\left(d \\sin{\\left(\\bar{\\alpha} \\right)} \\cos{\\left(\\beta \\right)} - \\frac{\\left(- \\frac{d \\sin{\\left(\\beta \\right)}}{2} + h\\right) \\sin{\\left(\\alpha \\right)} \\cos{\\left(\\eta \\right)}}{\\sin{\\left(\\eta \\right)}} + \\frac{\\left(\\frac{d \\sin{\\left(\\beta \\right)}}{2} + h\\right) \\sin{\\left(\\alpha \\right)} \\cos{\\left(\\eta \\right)}}{\\sin{\\left(\\eta \\right)}}\\right) \\left(- c_{y} + \\frac{d \\cos{\\left(\\bar{\\alpha} \\right)} \\cos{\\left(\\beta \\right)}}{2} + \\frac{w \\sin{\\left(\\bar{\\alpha} \\right)}}{2} + x_{2} + \\frac{\\left(\\frac{d \\sin{\\left(\\beta \\right)}}{2} + h\\right) \\cos{\\left(\\alpha \\right)} \\cos{\\left(\\eta \\right)}}{\\sin{\\left(\\eta \\right)}}\\right) + \\left(- d \\cos{\\left(\\bar{\\alpha} \\right)} \\cos{\\left(\\beta \\right)} + \\frac{\\left(- \\frac{d \\sin{\\left(\\beta \\right)}}{2} + h\\right) \\cos{\\left(\\alpha \\right)} \\cos{\\left(\\eta \\right)}}{\\sin{\\left(\\eta \\right)}} - \\frac{\\left(\\frac{d \\sin{\\left(\\beta \\right)}}{2} + h\\right) \\cos{\\left(\\alpha \\right)} \\cos{\\left(\\eta \\right)}}{\\sin{\\left(\\eta \\right)}}\\right) \\left(- c_{x} + \\frac{d \\sin{\\left(\\bar{\\alpha} \\right)} \\cos{\\left(\\beta \\right)}}{2} - \\frac{w \\cos{\\left(\\bar{\\alpha} \\right)}}{2} + x_{1} + \\frac{\\left(\\frac{d \\sin{\\left(\\beta \\right)}}{2} + h\\right) \\sin{\\left(\\alpha \\right)} \\cos{\\left(\\eta \\right)}}{\\sin{\\left(\\eta \\right)}}\\right)$"
      ],
      "text/plain": [
       "(d*sin(\\bar{\\alpha})*cos(\\beta) - (-d*sin(\\beta)/2 + h)*sin(\\alpha)*cos(\\eta)/sin(\\eta) + (d*sin(\\beta)/2 + h)*sin(\\alpha)*cos(\\eta)/sin(\\eta))*(-c_y + d*cos(\\bar{\\alpha})*cos(\\beta)/2 + w*sin(\\bar{\\alpha})/2 + x_2 + (d*sin(\\beta)/2 + h)*cos(\\alpha)*cos(\\eta)/sin(\\eta)) + (-d*cos(\\bar{\\alpha})*cos(\\beta) + (-d*sin(\\beta)/2 + h)*cos(\\alpha)*cos(\\eta)/sin(\\eta) - (d*sin(\\beta)/2 + h)*cos(\\alpha)*cos(\\eta)/sin(\\eta))*(-c_x + d*sin(\\bar{\\alpha})*cos(\\beta)/2 - w*cos(\\bar{\\alpha})/2 + x_1 + (d*sin(\\beta)/2 + h)*sin(\\alpha)*cos(\\eta)/sin(\\eta))"
      ]
     },
     "execution_count": 71,
     "metadata": {},
     "output_type": "execute_result"
    }
   ],
   "source": [
    "l = ((s[2] - s[1]).T @ H.T @ (x - s[1]))[0]\n",
    "l"
   ]
  },
  {
   "cell_type": "code",
   "execution_count": 54,
   "id": "9cce3e1d-5fdd-4abe-b1ad-b870ffa3904f",
   "metadata": {},
   "outputs": [
    {
     "data": {
      "text/latex": [
       "$\\displaystyle \\left[\\begin{matrix}x_{1} \\cos{\\left(\\bar{\\alpha} \\right)} + x_{2} \\left(\\frac{\\sin{\\left(\\alpha \\right)} \\sin{\\left(\\beta \\right)} \\cos{\\left(\\eta \\right)}}{\\sin{\\left(\\eta \\right)}} + \\sin{\\left(\\bar{\\alpha} \\right)} \\cos{\\left(\\beta \\right)}\\right) + x_{3} \\left(- \\frac{\\sin{\\left(\\alpha \\right)} \\cos{\\left(\\beta \\right)} \\cos{\\left(\\eta \\right)}}{\\sin{\\left(\\eta \\right)}} + \\sin{\\left(\\bar{\\alpha} \\right)} \\sin{\\left(\\beta \\right)}\\right)\\\\- x_{1} \\sin{\\left(\\bar{\\alpha} \\right)} + x_{2} \\left(\\frac{\\sin{\\left(\\beta \\right)} \\cos{\\left(\\alpha \\right)} \\cos{\\left(\\eta \\right)}}{\\sin{\\left(\\eta \\right)}} + \\cos{\\left(\\bar{\\alpha} \\right)} \\cos{\\left(\\beta \\right)}\\right) + x_{3} \\left(\\sin{\\left(\\beta \\right)} \\cos{\\left(\\bar{\\alpha} \\right)} - \\frac{\\cos{\\left(\\alpha \\right)} \\cos{\\left(\\beta \\right)} \\cos{\\left(\\eta \\right)}}{\\sin{\\left(\\eta \\right)}}\\right)\\\\0\\end{matrix}\\right]$"
      ],
      "text/plain": [
       "Matrix([\n",
       "[x_1*cos(\\bar{\\alpha}) + x_2*(sin(\\alpha)*sin(\\beta)*cos(\\eta)/sin(\\eta) + sin(\\bar{\\alpha})*cos(\\beta)) + x_3*(-sin(\\alpha)*cos(\\beta)*cos(\\eta)/sin(\\eta) + sin(\\bar{\\alpha})*sin(\\beta))],\n",
       "[-x_1*sin(\\bar{\\alpha}) + x_2*(sin(\\beta)*cos(\\alpha)*cos(\\eta)/sin(\\eta) + cos(\\bar{\\alpha})*cos(\\beta)) + x_3*(sin(\\beta)*cos(\\bar{\\alpha}) - cos(\\alpha)*cos(\\beta)*cos(\\eta)/sin(\\eta))],\n",
       "[                                                                                                                                                                                         0]])"
      ]
     },
     "execution_count": 54,
     "metadata": {},
     "output_type": "execute_result"
    }
   ],
   "source": [
    "M @ R3(planar_azimuth).T @ R1(planar_tilt).T @ x"
   ]
  },
  {
   "cell_type": "code",
   "execution_count": 28,
   "id": "503c31d2-a3b5-4109-9c72-e8587b8412fb",
   "metadata": {},
   "outputs": [
    {
     "data": {
      "text/latex": [
       "$\\displaystyle \\left|{\\left(- c_{x} + x_{1} + \\frac{\\left(\\left(- c_{x} + x_{1}\\right) \\sin{\\left(\\bar{\\alpha} \\right)} \\sin{\\left(\\beta \\right)} + \\left(- c_{y} + x_{2}\\right) \\sin{\\left(\\beta \\right)} \\cos{\\left(\\bar{\\alpha} \\right)} + \\left(- h + x_{3}\\right) \\cos{\\left(\\beta \\right)}\\right) \\sin{\\left(\\alpha \\right)} \\cos{\\left(\\eta \\right)}}{- \\sin{\\left(\\alpha \\right)} \\sin{\\left(\\bar{\\alpha} \\right)} \\sin{\\left(\\beta \\right)} \\cos{\\left(\\eta \\right)} - \\sin{\\left(\\beta \\right)} \\cos{\\left(\\alpha \\right)} \\cos{\\left(\\bar{\\alpha} \\right)} \\cos{\\left(\\eta \\right)} - \\sin{\\left(\\eta \\right)} \\cos{\\left(\\beta \\right)}}\\right) \\cos{\\left(\\bar{\\alpha} \\right)} - \\left(- c_{y} + x_{2} + \\frac{\\left(\\left(- c_{x} + x_{1}\\right) \\sin{\\left(\\bar{\\alpha} \\right)} \\sin{\\left(\\beta \\right)} + \\left(- c_{y} + x_{2}\\right) \\sin{\\left(\\beta \\right)} \\cos{\\left(\\bar{\\alpha} \\right)} + \\left(- h + x_{3}\\right) \\cos{\\left(\\beta \\right)}\\right) \\cos{\\left(\\alpha \\right)} \\cos{\\left(\\eta \\right)}}{- \\sin{\\left(\\alpha \\right)} \\sin{\\left(\\bar{\\alpha} \\right)} \\sin{\\left(\\beta \\right)} \\cos{\\left(\\eta \\right)} - \\sin{\\left(\\beta \\right)} \\cos{\\left(\\alpha \\right)} \\cos{\\left(\\bar{\\alpha} \\right)} \\cos{\\left(\\eta \\right)} - \\sin{\\left(\\eta \\right)} \\cos{\\left(\\beta \\right)}}\\right) \\sin{\\left(\\bar{\\alpha} \\right)}}\\right|$"
      ],
      "text/plain": [
       "Abs((-c_x + x_1 + ((-c_x + x_1)*sin(\\bar{\\alpha})*sin(\\beta) + (-c_y + x_2)*sin(\\beta)*cos(\\bar{\\alpha}) + (-h + x_3)*cos(\\beta))*sin(\\alpha)*cos(\\eta)/(-sin(\\alpha)*sin(\\bar{\\alpha})*sin(\\beta)*cos(\\eta) - sin(\\beta)*cos(\\alpha)*cos(\\bar{\\alpha})*cos(\\eta) - sin(\\eta)*cos(\\beta)))*cos(\\bar{\\alpha}) - (-c_y + x_2 + ((-c_x + x_1)*sin(\\bar{\\alpha})*sin(\\beta) + (-c_y + x_2)*sin(\\beta)*cos(\\bar{\\alpha}) + (-h + x_3)*cos(\\beta))*cos(\\alpha)*cos(\\eta)/(-sin(\\alpha)*sin(\\bar{\\alpha})*sin(\\beta)*cos(\\eta) - sin(\\beta)*cos(\\alpha)*cos(\\bar{\\alpha})*cos(\\eta) - sin(\\eta)*cos(\\beta)))*sin(\\bar{\\alpha}))"
      ]
     },
     "execution_count": 28,
     "metadata": {},
     "output_type": "execute_result"
    }
   ],
   "source": [
    "phi = (e3[2].T @ R1(planar_tilt) @ R3(planar_azimuth) @ (x - c))[0] / (e3[2].T @ R1(planar_tilt) @ R3(planar_azimuth) @ n)[0]\n",
    "l = sy.Abs(R1(planar_tilt) @ R3(planar_azimuth) @ (x - phi*n - c))\n",
    "# @ R1(planar_tilt) @ R3(planar_azimuth)\n",
    "l[0].simplify()\n",
    "l[0]"
   ]
  }
 ],
 "metadata": {
  "kernelspec": {
   "display_name": "Python 3 (ipykernel)",
   "language": "python",
   "name": "python3"
  },
  "language_info": {
   "codemirror_mode": {
    "name": "ipython",
    "version": 3
   },
   "file_extension": ".py",
   "mimetype": "text/x-python",
   "name": "python",
   "nbconvert_exporter": "python",
   "pygments_lexer": "ipython3",
   "version": "3.12.1"
  }
 },
 "nbformat": 4,
 "nbformat_minor": 5
}
