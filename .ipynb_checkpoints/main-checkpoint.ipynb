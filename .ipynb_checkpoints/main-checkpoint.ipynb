{
 "cells": [
  {
   "cell_type": "code",
   "execution_count": 18,
   "id": "c3357538-638a-4f57-983c-c5f6679f2ada",
   "metadata": {},
   "outputs": [
    {
     "data": {
      "text/plain": [
       "control (generic function with 3 methods)"
      ]
     },
     "execution_count": 18,
     "metadata": {},
     "output_type": "execute_result"
    }
   ],
   "source": [
    "using Dates: DateTime, @dateformat_str\n",
    "using CSV, DataFrames, LaTeXStrings, PyPlot\n",
    "\n",
    "include(\"model.jl\")"
   ]
  },
  {
   "cell_type": "code",
   "execution_count": 2,
   "id": "b41e1a55-dcd8-4b57-bf43-3283204f9b4c",
   "metadata": {},
   "outputs": [],
   "source": [
    "const GAMMA = 0.999\n",
    "const ALBEDO = 0.1\n",
    "\n",
    "const CROPS_FILE = \"data/crops.csv\"\n",
    "const PANELS_FILE = \"data/modules.csv\"\n",
    "const SOLAR_FILE = \"data/solar.csv\"\n",
    "\n",
    "rcParams = PyPlot.PyDict(PyPlot.matplotlib.\"rcParams\")\n",
    "rcParams[\"figure.constrained_layout.use\"] = true\n",
    "rcParams[\"grid.alpha\"] = 0.3\n",
    "# rcParams[\"axes.spines.right\"] = false\n",
    "rcParams[\"axes.spines.top\"] = false\n",
    "rcParams[\"legend.frameon\"] = false\n",
    "rcParams[\"ytick.labelsize\"] = 6\n",
    "rcParams[\"xtick.labelsize\"] = 6\n",
    "rcParams[\"font.size\"] = 8\n",
    "rcParams[\"font.family\"] = \"sans\"\n",
    "rcParams[\"font.sans-serif\"] = [\"Computer Modern Roman\"]\n",
    "rcParams[\"text.usetex\"] = true\n",
    "rcParams[\"text.latex.preamble\"] = \"\\\\usepackage{amsmath}\";\n",
    "#     raw\"\\usepackage{amsfonts}\", \n",
    "#     raw\"\\usepackage{amssymb}\",\n",
    "# ]"
   ]
  },
  {
   "cell_type": "code",
   "execution_count": 3,
   "id": "03a1368d-499c-4a75-b2ac-1f1a7c8b9c1d",
   "metadata": {},
   "outputs": [
    {
     "name": "stdout",
     "output_type": "stream",
     "text": [
      "Loading data... Done\n"
     ]
    }
   ],
   "source": [
    "print(\"Loading data... \")\n",
    "crops = [\n",
    "  Crop([crop.pos_east, crop.pos_north, crop.height], crop.to_shadow) \n",
    "  for crop in CSV.read(CROPS_FILE, DataFrame) |> eachrow\n",
    "]\n",
    "\n",
    "panels = [\n",
    "  Panel(\n",
    "    panel.width, \n",
    "    panel.depth, \n",
    "    [panel.pos_east, panel.pos_north, panel.height],\n",
    "    panel.azimuth\n",
    "  )\n",
    "  for panel in CSV.read(PANELS_FILE, DataFrame) |> eachrow\n",
    "]\n",
    "\n",
    "suns = [\n",
    "  Sun(sun.time, sun.dni, sun.dhi, sun.ghi, sun.azimuth, sun.elevation)\n",
    "  for sun in CSV.read(SOLAR_FILE, DataFrame) |> eachrow\n",
    "]\n",
    "println(\"Done\")"
   ]
  },
  {
   "cell_type": "code",
   "execution_count": 4,
   "id": "2c23adea-898d-4c32-84e9-36db27601fc1",
   "metadata": {},
   "outputs": [
    {
     "name": "stdout",
     "output_type": "stream",
     "text": [
      "[Sun @ 2024-10-26 05:30:00] Start constructing problem... Done. Status: OPTIMAL.\n",
      "[Sun @ 2024-10-26 05:45:00] Start constructing problem... Done. Status: OPTIMAL.\n",
      "[Sun @ 2024-10-26 06:00:00] Start constructing problem... Done. Status: OPTIMAL.\n",
      "[Sun @ 2024-10-26 06:15:00] Start constructing problem... Done. Status: OPTIMAL.\n",
      "[Sun @ 2024-10-26 06:30:00] Start constructing problem... Done. Status: OPTIMAL.\n",
      "[Sun @ 2024-10-26 06:45:00] Start constructing problem... Done. Status: OPTIMAL.\n",
      "[Sun @ 2024-10-26 07:00:00] Start constructing problem... Done. Status: OPTIMAL.\n",
      "[Sun @ 2024-10-26 07:15:00] Start constructing problem... Done. Status: OPTIMAL.\n",
      "[Sun @ 2024-10-26 07:30:00] Start constructing problem... Done. Status: OPTIMAL.\n",
      "[Sun @ 2024-10-26 07:45:00] Start constructing problem... Done. Status: OPTIMAL.\n",
      "[Sun @ 2024-10-26 08:00:00] Start constructing problem... Done. Status: OPTIMAL.\n",
      "[Sun @ 2024-10-26 08:15:00] Start constructing problem... Done. Status: OPTIMAL.\n",
      "[Sun @ 2024-10-26 08:30:00] Start constructing problem... Done. Status: OPTIMAL.\n",
      "[Sun @ 2024-10-26 08:45:00] Start constructing problem... Done. Status: OPTIMAL.\n",
      "[Sun @ 2024-10-26 09:00:00] Start constructing problem... Done. Status: OPTIMAL.\n",
      "[Sun @ 2024-10-26 09:15:00] Start constructing problem... Done. Status: OPTIMAL.\n",
      "[Sun @ 2024-10-26 09:30:00] Start constructing problem... Done. Status: OPTIMAL.\n",
      "[Sun @ 2024-10-26 09:45:00] Start constructing problem... Done. Status: OPTIMAL.\n",
      "[Sun @ 2024-10-26 10:00:00] Start constructing problem... Done. Status: OPTIMAL.\n",
      "[Sun @ 2024-10-26 10:15:00] Start constructing problem... Done. Status: OPTIMAL.\n",
      "[Sun @ 2024-10-26 10:30:00] Start constructing problem... Done. Status: OPTIMAL.\n",
      "[Sun @ 2024-10-26 10:45:00] Start constructing problem... Done. Status: OPTIMAL.\n",
      "[Sun @ 2024-10-26 11:00:00] Start constructing problem... Done. Status: OPTIMAL.\n",
      "[Sun @ 2024-10-26 11:15:00] Start constructing problem... Done. Status: OPTIMAL.\n",
      "[Sun @ 2024-10-26 11:30:00] Start constructing problem... Done. Status: OPTIMAL.\n",
      "[Sun @ 2024-10-26 11:45:00] Start constructing problem... Done. Status: OPTIMAL.\n",
      "[Sun @ 2024-10-26 12:00:00] Start constructing problem... Done. Status: OPTIMAL.\n",
      "[Sun @ 2024-10-26 12:15:00] Start constructing problem... Done. Status: OPTIMAL.\n",
      "[Sun @ 2024-10-26 12:30:00] Start constructing problem... Done. Status: OPTIMAL.\n",
      "[Sun @ 2024-10-26 12:45:00] Start constructing problem... Done. Status: OPTIMAL.\n",
      "[Sun @ 2024-10-26 13:00:00] Start constructing problem... Done. Status: OPTIMAL.\n",
      "[Sun @ 2024-10-26 13:15:00] Start constructing problem... Done. Status: OPTIMAL.\n",
      "[Sun @ 2024-10-26 13:30:00] Start constructing problem... Done. Status: OPTIMAL.\n",
      "[Sun @ 2024-10-26 13:45:00] Start constructing problem... Done. Status: OPTIMAL.\n",
      "[Sun @ 2024-10-26 14:00:00] Start constructing problem... Done. Status: OPTIMAL.\n",
      "[Sun @ 2024-10-26 14:15:00] Start constructing problem... Done. Status: OPTIMAL.\n",
      "[Sun @ 2024-10-26 14:30:00] Start constructing problem... Done. Status: OPTIMAL.\n",
      "[Sun @ 2024-10-26 14:45:00] Start constructing problem... Done. Status: OPTIMAL.\n",
      "[Sun @ 2024-10-26 15:00:00] Start constructing problem... Done. Status: OPTIMAL.\n",
      "[Sun @ 2024-10-26 15:15:00] Start constructing problem... Done. Status: OPTIMAL.\n",
      "[Sun @ 2024-10-26 15:30:00] Start constructing problem... Done. Status: OPTIMAL.\n",
      "[Sun @ 2024-10-26 15:45:00] Start constructing problem... Done. Status: OPTIMAL.\n"
     ]
    }
   ],
   "source": [
    "total_power = Vector{Real}(undef, length(suns))\n",
    "light_coverage = Vector{Real}(undef, length(suns))\n",
    "crops_to_light = sum(crop -> 1 - Int(crop.to_shadow), crops)\n",
    "for (t, sun) in enumerate(suns)\n",
    "  tilt_vec, is_crop_shadowed = control(sun, panels, crops, ALBEDO, GAMMA)\n",
    "\n",
    "  total_power[t] = sum(\n",
    "    panel_power(panel, sun, ALBEDO, tilt_vec[i,:])\n",
    "    for (i, panel) in enumerate(panels)\n",
    "  )\n",
    "  light_coverage[t] = sum(1 .- is_crop_shadowed) / crops_to_light\n",
    "end"
   ]
  },
  {
   "cell_type": "code",
   "execution_count": 27,
   "id": "122efdbd-c3b2-4c35-b680-8b4405a61053",
   "metadata": {},
   "outputs": [
    {
     "data": {
      "image/png": "[encoded data removed]",
      "text/plain": [
       "Figure(PyObject <Figure size 350x160 with 2 Axes>)"
      ]
     },
     "metadata": {},
     "output_type": "display_data"
    }
   ],
   "source": [
    "times = DateTime.([sun.time for sun in suns], dateformat\"yyyy-mm-dd HH:MM:SS\")\n",
    "fig, ax = subplots(figsize=(3.5, 1.6))\n",
    "\n",
    "formatter = matplotlib.dates.DateFormatter(\"%H:%M\")\n",
    "\n",
    "ax_twin = ax.twinx()\n",
    "ax.plot(times, 1e-3total_power, color=\"tab:orange\")\n",
    "ax_twin.plot(times, 1e2light_coverage)\n",
    "\n",
    "ax.set_xlabel(\"Time\")\n",
    "ax.set_ylabel(L\"\\sum_{i \\in \\mathcal{M}} p_i \\text{ [kW] }\")\n",
    "\n",
    "ax.xaxis.set_major_formatter(formatter)\n",
    "\n",
    "ax_twin.set_ylabel(L\"\\sum_{k \\in \\mathcal{C}} \\xi_k / \\sum_{k \\in \\mathcal{C}} \\xi^\\bullet \\text{ [\\%] }\")\n",
    "ax.tick_params(axis=:x, rotation=45)\n",
    "ax.grid(true)\n",
    "savefig(\"media/gamma-$(GAMMA).pdf\")\n",
    "# plot!(twinx(), light_coverage, ylabel=L\"$\\mathbf{1}^\\top \\boldsymbol{\\xi}$\")\n",
    "# ax.plot()"
   ]
  }
 ],
 "metadata": {
  "kernelspec": {
   "display_name": "Julia 1.10.1",
   "language": "julia",
   "name": "julia-1.10"
  },
  "language_info": {
   "file_extension": ".jl",
   "mimetype": "application/julia",
   "name": "julia",
   "version": "1.10.1"
  }
 },
 "nbformat": 4,
 "nbformat_minor": 5
}
