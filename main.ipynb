{
 "cells": [
  {
   "cell_type": "code",
   "execution_count": 1,
   "id": "c3357538-638a-4f57-983c-c5f6679f2ada",
   "metadata": {},
   "outputs": [
    {
     "data": {
      "text/plain": [
       "control (generic function with 4 methods)"
      ]
     },
     "execution_count": 1,
     "metadata": {},
     "output_type": "execute_result"
    }
   ],
   "source": [
    "using Dates: DateTime, @dateformat_str\n",
    "using CSV, DataFrames, LaTeXStrings, PyCall, PyPlot\n",
    "\n",
    "@pyimport mpl_toolkits\n",
    "Poly3DCollection = mpl_toolkits.mplot3d.art3d.Poly3DCollection\n",
    "\n",
    "include(\"model.jl\")"
   ]
  },
  {
   "cell_type": "code",
   "execution_count": 2,
   "id": "d9f54eb9-d0f4-4433-8a0d-e69198111c8e",
   "metadata": {},
   "outputs": [
    {
     "data": {
      "text/plain": [
       "plot_power_and_reference (generic function with 1 method)"
      ]
     },
     "execution_count": 2,
     "metadata": {},
     "output_type": "execute_result"
    }
   ],
   "source": [
    "function plot_power_and_reference(power, light_coverage, savepath)\n",
    "    fig, ax_right = subplots(figsize=(3.5, 1.5))\n",
    "\n",
    "    ax_right.xaxis.set_major_formatter(formatter)\n",
    "    ax_right.xaxis.set_major_locator(locator)\n",
    "    \n",
    "    ax_left = ax_right.twinx()\n",
    "    ax_right.plot(times, power, color=\"tab:orange\", label=L\"\\sum_{i \\in \\mathcal{M}} p_i\")\n",
    "    ax_left.plot(\n",
    "        times, light_coverage, \n",
    "        color=\"tab:blue\", label=L\"\\sum_{k \\in \\mathcal{C}} \\xi_k / \\sum_{k \\in \\mathcal{C}} \\xi^\\bullet\"\n",
    "    )\n",
    "    \n",
    "    ax_right.set_xlabel(\"Time\")\n",
    "    ax_right.set_ylabel(\"[kW]\")\n",
    "    ax_left.set_ylim([0, 105])\n",
    "    ax_left.set_ylabel(L\"[\\%]\")\n",
    "    \n",
    "    ax_right.grid(true)\n",
    "    \n",
    "    ax_right.legend(\n",
    "        bbox_to_anchor=(0, 1.02, 1, 0.2), loc=\"lower right\",\n",
    "        borderaxespad=0, ncol=1\n",
    "    )\n",
    "    ax_left.legend(\n",
    "        bbox_to_anchor=(0, 1.02, 1, 0.2), loc=\"lower left\",\n",
    "        borderaxespad=0, ncol=1\n",
    "    )\n",
    "    \n",
    "    savefig(savepath)\n",
    "end"
   ]
  },
  {
   "cell_type": "code",
   "execution_count": 3,
   "id": "b41e1a55-dcd8-4b57-bf43-3283204f9b4c",
   "metadata": {},
   "outputs": [
    {
     "data": {
      "text/plain": [
       "\"black\""
      ]
     },
     "execution_count": 3,
     "metadata": {},
     "output_type": "execute_result"
    }
   ],
   "source": [
    "# Optimization parameters\n",
    "const GAMMA = 1\n",
    "const ALBEDO = 0.1\n",
    "\n",
    "# Data\n",
    "const CROPS_FILE = \"data/crops.csv\"\n",
    "const PANELS_FILE = \"data/modules.csv\"\n",
    "const SOLAR_FILE = \"data/solar.csv\"\n",
    "\n",
    "# PyPlot settings\n",
    "rcParams = PyPlot.PyDict(PyPlot.matplotlib.\"rcParams\")\n",
    "rcParams[\"figure.constrained_layout.use\"] = true\n",
    "rcParams[\"grid.alpha\"] = 0.3\n",
    "# rcParams[\"axes.spines.right\"] = false\n",
    "rcParams[\"axes.spines.top\"] = false\n",
    "rcParams[\"legend.frameon\"] = false\n",
    "rcParams[\"ytick.labelsize\"] = 6\n",
    "rcParams[\"xtick.labelsize\"] = 6\n",
    "rcParams[\"font.size\"] = 8\n",
    "rcParams[\"font.family\"] = \"sans\"\n",
    "rcParams[\"font.sans-serif\"] = [\"Computer Modern Roman\"]\n",
    "rcParams[\"text.usetex\"] = true\n",
    "rcParams[\"text.latex.preamble\"] = \"\\\\usepackage{amsmath}\";\n",
    "#     raw\"\\usepackage{amsfonts}\", \n",
    "#     raw\"\\usepackage{amssymb}\",\n",
    "# ]\n",
    "\n",
    "formatter = matplotlib.dates.DateFormatter(\"%H:%M\")\n",
    "locator = matplotlib.dates.HourLocator(interval=2)\n",
    "\n",
    "# Colors\n",
    "const COLOR_SHADOW_CROP = \"black\"\n",
    "const COLOR_LIGHTING_CROP = \"green\"\n",
    "const COLOR_PANEL = \"blue\"\n",
    "const COLOR_SHADOW = \"gray\"\n",
    "const COLOR_POLE = \"black\""
   ]
  },
  {
   "cell_type": "code",
   "execution_count": 4,
   "id": "03a1368d-499c-4a75-b2ac-1f1a7c8b9c1d",
   "metadata": {},
   "outputs": [
    {
     "name": "stdout",
     "output_type": "stream",
     "text": [
      "Loading data... Done\n"
     ]
    }
   ],
   "source": [
    "# Read data\n",
    "print(\"Loading data... \")\n",
    "crops = [\n",
    "  Crop([crop.pos_east, crop.pos_north, crop.height], crop.to_shadow) \n",
    "  for crop in CSV.read(CROPS_FILE, DataFrame) |> eachrow\n",
    "]\n",
    "\n",
    "panels = [\n",
    "  Panel(\n",
    "    panel.width, \n",
    "    panel.depth, \n",
    "    [panel.pos_east, panel.pos_north, panel.height],\n",
    "    panel.azimuth\n",
    "  )\n",
    "  for panel in CSV.read(PANELS_FILE, DataFrame) |> eachrow\n",
    "]\n",
    "\n",
    "suns = [\n",
    "  Sun(sun.time, sun.dni, sun.dhi, sun.ghi, sun.azimuth, sun.elevation)\n",
    "  for sun in CSV.read(SOLAR_FILE, DataFrame) |> eachrow\n",
    "]\n",
    "times = DateTime.([sun.time for sun in suns], dateformat\"yyyy-mm-dd HH:MM:SS\")\n",
    "println(\"Done\")"
   ]
  },
  {
   "cell_type": "code",
   "execution_count": 5,
   "id": "8fcdb6ee-9669-4942-a8c7-1a61d3b529a3",
   "metadata": {},
   "outputs": [
    {
     "data": {
      "image/png": "[encoded data removed]",
      "text/plain": [
       "Figure(PyObject <Figure size 640x480 with 1 Axes>)"
      ]
     },
     "metadata": {},
     "output_type": "display_data"
    },
    {
     "data": {
      "text/plain": [
       "update_animation (generic function with 1 method)"
      ]
     },
     "execution_count": 5,
     "metadata": {},
     "output_type": "execute_result"
    }
   ],
   "source": [
    "# Base figure\n",
    "fig = figure()\n",
    "ax = fig.add_subplot(projection=\"3d\")\n",
    "ax.set_proj_type(\"persp\")\n",
    "ax.view_init(elev=30, azim=230, roll=0)\n",
    "ax.set_axis_off()\n",
    "\n",
    "# Set axes limit\n",
    "min_xlim, max_xlim = Inf, 0\n",
    "min_ylim, max_ylim = Inf, 0\n",
    "for crop in crops\n",
    "    min_xlim, max_xlim = min(min_xlim, crop.pos[1]), max(max_xlim, crop.pos[1])\n",
    "    min_ylim, max_ylim = min(min_ylim, crop.pos[2]), max(max_ylim, crop.pos[2])\n",
    "end\n",
    "\n",
    "# Plot crops\n",
    "crops_pos = stack(crop -> crop.pos, crops)\n",
    "crops_plot = ax.scatter(crops_pos[1,:], crops_pos[2,:], crops_pos[3,:], depthshade=false)\n",
    "\n",
    "# Plot modules poles\n",
    "panels_pos = stack(panel -> panel.pos, panels)\n",
    "panels_width = stack(panel -> panel.width, panels)\n",
    "for i in [-1, 1]\n",
    "   ax.stem(\n",
    "       panels_pos[1,:] + i * 0.5panels_width,\n",
    "       panels_pos[2,:],\n",
    "       panels_pos[3,:],\n",
    "       basefmt=\" \",\n",
    "       markerfmt=\" \"\n",
    "   )\n",
    "end\n",
    "\n",
    "# Initialize panels and their shadow\n",
    "panel_polygons = Poly3DCollection([zeros(4,3) for _ in 1:length(panels)], color=COLOR_PANEL)\n",
    "shadow_polygons = Poly3DCollection([zeros(4,3) for _ in 1:length(panels)], color=COLOR_SHADOW)\n",
    "ax.add_collection3d(panel_polygons)\n",
    "ax.add_collection3d(shadow_polygons)\n",
    "\n",
    "function update_animation(t)\n",
    "    sun = suns[t]\n",
    "\n",
    "    updated_panel_vertices, updated_panel_shadow = [], []\n",
    "    for panel in panels\n",
    "        push!(\n",
    "            updated_panel_vertices,\n",
    "            \n",
    "        )\n",
    "    end\n",
    "end"
   ]
  },
  {
   "cell_type": "code",
   "execution_count": 6,
   "id": "2c23adea-898d-4c32-84e9-36db27601fc1",
   "metadata": {},
   "outputs": [
    {
     "name": "stdout",
     "output_type": "stream",
     "text": [
      "[Sun @ 2024-10-26 05:30:00] Start constructing problem... Done. Status: OPTIMAL.\n",
      "[Sun @ 2024-10-26 05:45:00] Start constructing problem... Done. Status: OPTIMAL.\n",
      "[Sun @ 2024-10-26 06:00:00] Start constructing problem... Done. Status: OPTIMAL.\n",
      "[Sun @ 2024-10-26 06:15:00] Start constructing problem... Done. Status: OPTIMAL.\n",
      "[Sun @ 2024-10-26 06:30:00] Start constructing problem... Done. Status: OPTIMAL.\n",
      "[Sun @ 2024-10-26 06:45:00] Start constructing problem... Done. Status: OPTIMAL.\n",
      "[Sun @ 2024-10-26 07:00:00] Start constructing problem... Done. Status: OPTIMAL.\n",
      "[Sun @ 2024-10-26 07:15:00] Start constructing problem... Done. Status: OPTIMAL.\n",
      "[Sun @ 2024-10-26 07:30:00] Start constructing problem... Done. Status: OPTIMAL.\n",
      "[Sun @ 2024-10-26 07:45:00] Start constructing problem... Done. Status: OPTIMAL.\n",
      "[Sun @ 2024-10-26 08:00:00] Start constructing problem... Done. Status: OPTIMAL.\n",
      "[Sun @ 2024-10-26 08:15:00] Start constructing problem... Done. Status: OPTIMAL.\n",
      "[Sun @ 2024-10-26 08:30:00] Start constructing problem... Done. Status: OPTIMAL.\n",
      "[Sun @ 2024-10-26 08:45:00] Start constructing problem... Done. Status: OPTIMAL.\n",
      "[Sun @ 2024-10-26 09:00:00] Start constructing problem... Done. Status: OPTIMAL.\n",
      "[Sun @ 2024-10-26 09:15:00] Start constructing problem... Done. Status: OPTIMAL.\n",
      "[Sun @ 2024-10-26 09:30:00] Start constructing problem... Done. Status: OPTIMAL.\n",
      "[Sun @ 2024-10-26 09:45:00] Start constructing problem... Done. Status: OPTIMAL.\n",
      "[Sun @ 2024-10-26 10:00:00] Start constructing problem... Done. Status: OPTIMAL.\n",
      "[Sun @ 2024-10-26 10:15:00] Start constructing problem... Done. Status: OPTIMAL.\n",
      "[Sun @ 2024-10-26 10:30:00] Start constructing problem... Done. Status: OPTIMAL.\n",
      "[Sun @ 2024-10-26 10:45:00] Start constructing problem... Done. Status: OPTIMAL.\n",
      "[Sun @ 2024-10-26 11:00:00] Start constructing problem... Done. Status: OPTIMAL.\n",
      "[Sun @ 2024-10-26 11:15:00] Start constructing problem... Done. Status: OPTIMAL.\n",
      "[Sun @ 2024-10-26 11:30:00] Start constructing problem... Done. Status: OPTIMAL.\n",
      "[Sun @ 2024-10-26 11:45:00] Start constructing problem... Done. Status: OPTIMAL.\n",
      "[Sun @ 2024-10-26 12:00:00] Start constructing problem... Done. Status: OPTIMAL.\n",
      "[Sun @ 2024-10-26 12:15:00] Start constructing problem... Done. Status: OPTIMAL.\n",
      "[Sun @ 2024-10-26 12:30:00] Start constructing problem... Done. Status: OPTIMAL.\n",
      "[Sun @ 2024-10-26 12:45:00] Start constructing problem... Done. Status: OPTIMAL.\n",
      "[Sun @ 2024-10-26 13:00:00] Start constructing problem... Done. Status: OPTIMAL.\n",
      "[Sun @ 2024-10-26 13:15:00] Start constructing problem... Done. Status: OPTIMAL.\n",
      "[Sun @ 2024-10-26 13:30:00] Start constructing problem... Done. Status: OPTIMAL.\n",
      "[Sun @ 2024-10-26 13:45:00] Start constructing problem... Done. Status: OPTIMAL.\n",
      "[Sun @ 2024-10-26 14:00:00] Start constructing problem... Done. Status: OPTIMAL.\n",
      "[Sun @ 2024-10-26 14:15:00] Start constructing problem... Done. Status: OPTIMAL.\n",
      "[Sun @ 2024-10-26 14:30:00] Start constructing problem... Done. Status: OPTIMAL.\n",
      "[Sun @ 2024-10-26 14:45:00] Start constructing problem... Done. Status: OPTIMAL.\n",
      "[Sun @ 2024-10-26 15:00:00] Start constructing problem... Done. Status: OPTIMAL.\n",
      "[Sun @ 2024-10-26 15:15:00] Start constructing problem... Done. Status: OPTIMAL.\n",
      "[Sun @ 2024-10-26 15:30:00] Start constructing problem... Done. Status: OPTIMAL.\n",
      "[Sun @ 2024-10-26 15:45:00] Start constructing problem... Done. Status: OPTIMAL.\n"
     ]
    }
   ],
   "source": [
    "total_power = Vector{Real}(undef, length(suns))\n",
    "light_coverage = Vector{Real}(undef, length(suns))\n",
    "crops_to_light = sum(crop -> 1 - Int(crop.to_shadow), crops)\n",
    "for (t, sun) in enumerate(suns)\n",
    "  # Optimal control policy\n",
    "  tilt_vec, is_crop_shadowed = control(sun, panels, crops, ALBEDO, GAMMA)\n",
    "\n",
    "  # KPIs to plot: total power produced and crops' light coverage \n",
    "  total_power[t] = sum(\n",
    "    p(panel, sun, ALBEDO, tilt_vec[i,:])\n",
    "    for (i, panel) in enumerate(panels)\n",
    "  )\n",
    "  light_coverage[t] = sum(1 .- is_crop_shadowed) / crops_to_light\n",
    "end"
   ]
  },
  {
   "cell_type": "code",
   "execution_count": 7,
   "id": "d6e22230-09bc-45e0-8982-81ab8798b13f",
   "metadata": {},
   "outputs": [],
   "source": [
    "# Vertical panel policy\n",
    "vertical_policy_total_power = Vector{Real}(undef, length(suns))\n",
    "vertical_policy_light_coverage = Vector{Real}(undef, length(suns))\n",
    "tilt = 0.99π/2 # π/2 is not admissible\n",
    "for (t, sun) in enumerate(suns)\n",
    "    vertical_policy_total_power[t] = sum(panel -> p(panel, sun, ALBEDO, u(tilt)), panels)\n",
    "    # vertical_policy_light_coverage[t] = \n",
    "end"
   ]
  },
  {
   "cell_type": "code",
   "execution_count": 8,
   "id": "851fb7be-7d20-484d-8d3e-e79103e7373c",
   "metadata": {},
   "outputs": [
    {
     "data": {
      "image/png": "[encoded data removed]",
      "text/plain": [
       "Figure(PyObject <Figure size 350x120 with 1 Axes>)"
      ]
     },
     "metadata": {},
     "output_type": "display_data"
    }
   ],
   "source": [
    "# Considered panel-crop pairs\n",
    "spared_variable_ratio = Vector{Real}(undef, length(suns))\n",
    "for (t, sun) in enumerate(suns)\n",
    "    considered_panel_crop_pairs = sum(\n",
    "        Int(can_panel_shadow_crop(panel, crop, sun, 100))\n",
    "        for panel in panels, crop in crops\n",
    "    )\n",
    "    spared_variable_ratio[t] = considered_panel_crop_pairs / (length(crops) * length(panels))  \n",
    "end\n",
    "\n",
    "fig, ax = subplots(figsize=(3.5, 1.2))\n",
    "ax.bar(times, 1e2spared_variable_ratio, linewidth=0, width=8e-3)\n",
    "max_spared_variable_ratio = 1e2maximum(spared_variable_ratio)\n",
    "ax.axhline(max_spared_variable_ratio, ls=\"--\", lw=0.8, color=\"gray\")\n",
    "ax.text(times[2], 0.5 + max_spared_variable_ratio, \"max. $(round(max_spared_variable_ratio))\\\\%\", fontsize=6)\n",
    "\n",
    "ax.xaxis.set_major_formatter(formatter)\n",
    "ax.xaxis.set_major_locator(locator)\n",
    "\n",
    "ax.set_xlabel(\"Time\")\n",
    "ax.set_ylabel(L\"\\frac{|\\mathcal{I}|}{|\\mathcal{M}||\\mathcal{P}|} \\ [\\%]\")\n",
    "\n",
    "ax.set_ylim(0, 20)\n",
    "ax.grid(true)\n",
    "\n",
    "savefig(\"media/panel-crop-pairs.pdf\")"
   ]
  },
  {
   "cell_type": "code",
   "execution_count": 9,
   "id": "122efdbd-c3b2-4c35-b680-8b4405a61053",
   "metadata": {},
   "outputs": [
    {
     "data": {
      "image/png": "[encoded data removed]",
      "text/plain": [
       "Figure(PyObject <Figure size 350x150 with 2 Axes>)"
      ]
     },
     "metadata": {},
     "output_type": "display_data"
    }
   ],
   "source": [
    "plot_power_and_reference(1e-3total_power, 1e2light_coverage, \"media/gamma-$(GAMMA).pdf\")"
   ]
  }
 ],
 "metadata": {
  "kernelspec": {
   "display_name": "Julia 1.10.1",
   "language": "julia",
   "name": "julia-1.10"
  },
  "language_info": {
   "file_extension": ".jl",
   "mimetype": "application/julia",
   "name": "julia",
   "version": "1.10.1"
  }
 },
 "nbformat": 4,
 "nbformat_minor": 5
}
