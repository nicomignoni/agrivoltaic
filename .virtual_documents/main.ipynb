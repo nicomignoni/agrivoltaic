using Dates: DateTime, @dateformat_str
using CSV, DataFrames, LaTeXStrings, PyCall, PyPlot

@pyimport mpl_toolkits
Poly3DCollection = mpl_toolkits.mplot3d.art3d.Poly3DCollection

include("model.jl")


# Optimization parameters
const GAMMA = 1
const ALBEDO = 0.1

# Data
const CROPS_FILE = "data/crops.csv"
const PANELS_FILE = "data/modules.csv"
const SOLAR_FILE = "data/solar.csv"

# PyPlot settings
rcParams = PyPlot.PyDict(PyPlot.matplotlib."rcParams")
rcParams["figure.constrained_layout.use"] = true
rcParams["grid.alpha"] = 0.3
# rcParams["axes.spines.right"] = false
rcParams["axes.spines.top"] = false
rcParams["legend.frameon"] = false
rcParams["ytick.labelsize"] = 6
rcParams["xtick.labelsize"] = 6
rcParams["font.size"] = 8
rcParams["font.family"] = "sans"
rcParams["font.sans-serif"] = ["Computer Modern Roman"]
rcParams["text.usetex"] = true
rcParams["text.latex.preamble"] = "\\usepackage{amsmath}";
#     raw"\usepackage{amsfonts}", 
#     raw"\usepackage{amssymb}",
# ]

# Colors
const COLOR_SHADOW_CROP = "black"
const COLOR_LIGHTING_CROP = "green"
const COLOR_PANEL = "blue"
const COLOR_SHADOW = "gray"
const COLOR_POLE = "black"


# Read data
print("Loading data... ")
crops = [
  Crop([crop.pos_east, crop.pos_north, crop.height], crop.to_shadow) 
  for crop in CSV.read(CROPS_FILE, DataFrame) |> eachrow
]

panels = [
  Panel(
    panel.width, 
    panel.depth, 
    [panel.pos_east, panel.pos_north, panel.height],
    panel.azimuth
  )
  for panel in CSV.read(PANELS_FILE, DataFrame) |> eachrow
]

suns = [
  Sun(sun.time, sun.dni, sun.dhi, sun.ghi, sun.azimuth, sun.elevation)
  for sun in CSV.read(SOLAR_FILE, DataFrame) |> eachrow
]
println("Done")


# Base figure
fig = figure()
ax = fig.add_subplot(projection="3d")
ax.set_proj_type("persp")
ax.view_init(elev=30, azim=230, roll=0)
ax.set_axis_off()

# Set axes limit
min_xlim, max_xlim = Inf, 0
min_ylim, max_ylim = Inf, 0
for crop in crops
    min_xlim, max_xlim = min(min_xlim, crop.pos[1]), max(max_xlim, crop.pos[1])
    min_ylim, max_ylim = min(min_ylim, crop.pos[2]), max(max_ylim, crop.pos[2])
end

# Plot crops
crops_pos = stack(crop -> crop.pos, crops)
crops_plot = ax.scatter(crops_pos[1,:], crops_pos[2,:], crops_pos[3,:], depthshade=false)

# Plot modules poles
panels_pos = stack(panel -> panel.pos, panels)
panels_width = stack(panel -> panel.width, panels)
for i in [-1, 1]
   ax.stem(
       panels_pos[1,:] + i * 0.5panels_width,
       panels_pos[2,:],
       panels_pos[3,:],
       basefmt=" ",
       markerfmt=" "
   )
end

# Initialize panels and their shadow
panel_polygons = Poly3DCollection([zeros(4,3) for _ in 1:length(panels)], color=COLOR_PANEL)
shadow_polygons = Poly3DCollection([zeros(4,3) for _ in 1:length(panels)], color=COLOR_SHADOW)
ax.add_collection3d(panel_polygons)
ax.add_collection3d(shadow_polygons)

function update_animation(t)
    sun = suns[t]

    updated_panel_vertices, updated_panel_shadow = [], []
    for panel in panels
        push!(
            updated_panel_vertices,
            
        )
    end
end


total_power = Vector{Real}(undef, length(suns))
light_coverage = Vector{Real}(undef, length(suns))
crops_to_light = sum(crop -> 1 - Int(crop.to_shadow), crops)
for (t, sun) in enumerate(suns)
  tilt_vec, is_crop_shadowed = control(sun, panels, crops, ALBEDO, GAMMA)

  # KPIs to plot: total power produced and crops' light coverage 
  total_power[t] = sum(
    panel_power(panel, sun, ALBEDO, tilt_vec[i,:])
    for (i, panel) in enumerate(panels)
  )
  light_coverage[t] = sum(1 .- is_crop_shadowed) / crops_to_light
end


times = DateTime.([sun.time for sun in suns], dateformat"yyyy-mm-dd HH:MM:SS")
fig, ax = subplots(figsize=(3.5, 1.8))

formatter = matplotlib.dates.DateFormatter("%H:%M")

ax_twin = ax.twinx()
ax.plot(times, 1e-3total_power, color="tab:orange")
ax_twin.plot(times, 1e2light_coverage)

ax.set_xlabel("Time")
ax.set_ylabel(L"\sum_{i \in \mathcal{M}} p_i \text{ [kW] }")

ax.xaxis.set_major_formatter(formatter)

ax_twin.set_ylabel(L"\sum_{k \in \mathcal{C}} \xi_k / \sum_{k \in \mathcal{C}} \xi^\bullet \text{ [\%] }")
ax.tick_params(axis=:x, rotation=45)
ax.grid(true)
savefig("media/gamma-$(GAMMA).pdf")
# plot!(twinx(), light_coverage, ylabel=L"$\mathbf{1}^\top \boldsymbol{\xi}$")
# ax.plot()
